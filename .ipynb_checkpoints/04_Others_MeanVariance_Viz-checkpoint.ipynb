{
 "cells": [
  {
   "cell_type": "code",
   "execution_count": 6,
   "metadata": {},
   "outputs": [],
   "source": [
    "%matplotlib inline\n",
    "import matplotlib.pyplot as plt\n",
    "import seaborn as sns; sns.set()  # for plot styling\n",
    "import numpy as np\n",
    "import pickle\n",
    "from sklearn.cluster import KMeans, SpectralClustering\n",
    "from sklearn.manifold import TSNE"
   ]
  },
  {
   "cell_type": "code",
   "execution_count": 4,
   "metadata": {},
   "outputs": [],
   "source": [
    "def save_obj_curr_folder(obj, name):\n",
    "    with open(name, 'wb') as f:\n",
    "        pickle.dump(obj, f, pickle.HIGHEST_PROTOCOL)\n",
    "\n",
    "def load_obj_curr_folder(name):\n",
    "    with open(name, 'rb') as f:\n",
    "        return pickle.load(f)"
   ]
  },
  {
   "cell_type": "code",
   "execution_count": 24,
   "metadata": {},
   "outputs": [],
   "source": [
    "all_pl_with_description = pickle.load(open('data_pl/mpd_pl_with_description.p', 'rb'))\n",
    "pl_desc_path = '/media/irene/dataset/mpd.v1/data_pl_desc'\n",
    "tr_info_path = '/media/irene/dataset/mpd.v1/tr_info'"
   ]
  },
  {
   "cell_type": "code",
   "execution_count": null,
   "metadata": {},
   "outputs": [],
   "source": [
    "# for _idx in tqdm(range(len(all_pl_with_description))):\n",
    "for _idx in range(1):\n",
    "    _pl = all_pl_with_description[_idx]\n",
    "    _pl_feature = []\n",
    "\n",
    "    _curr_track_list = _pl['tracks']\n",
    "    _curr_pl_feature_list_dict = dict()\n",
    "\n",
    "    for _tfidx in range(len(track_features_to_investigate)):\n",
    "        _curr_pl_feature_list_dict[track_features_to_investigate[_tfidx]] = list()\n",
    "\n",
    "    for _tr in _curr_track_list:\n",
    "        _curr_track_id = _tr['track_uri'].split(':')[-1]\n",
    "        _curr_track_path = os.path.join(tr_info_path, _curr_track_id + '.p')\n",
    "        _curr_track_info = load_obj_curr_folder(_curr_track_path)\n",
    "\n",
    "        # popularity\n",
    "        if _curr_track_info['info'] is not None:\n",
    "            _curr_pl_feature_list_dict[track_features_to_investigate[0]].append(\n",
    "                _curr_track_info['info'][track_features_to_investigate[0]])\n",
    "        else:\n",
    "            print('info err : ' + _curr_track_path)\n",
    "            continue\n",
    "\n",
    "        # others\n",
    "        if _curr_track_info['audio_feature'] is not None:\n",
    "            for _tfidx in range(1, len(track_features_to_investigate) - 1):\n",
    "                _curr_pl_feature_list_dict[track_features_to_investigate[_tfidx]].append(\n",
    "                    _curr_track_info['audio_feature'][track_features_to_investigate[_tfidx]])\n",
    "        else:\n",
    "            print('audio_feature err : ' + _curr_track_path)\n",
    "            continue\n",
    "\n",
    "        if _curr_track_info['audio_feature'] is not None:\n",
    "\n",
    "            _curr_pl_feature_list_dict[track_features_to_investigate[-1]].append(\n",
    "                int(_curr_track_info['info']['album']['release_date'].split('-')[0]))\n",
    "        else:\n",
    "            print('audio_feature err : ' + _curr_track_path)\n",
    "            continue\n",
    "\n",
    "\n",
    "    ## (1) add track level characteristics\n",
    "    # Compute averages\n",
    "    _avgs = []\n",
    "    for _tfidx in range(len(track_features_to_investigate)):\n",
    "        _tmp_arr = np.array(_curr_pl_feature_list_dict[track_features_to_investigate[_tfidx]])\n",
    "        _avgs.append(np.average(_tmp_arr))\n",
    "\n",
    "    # Compute variance\n",
    "    _variances = []\n",
    "    for _tfidx in range(len(track_features_to_investigate)):\n",
    "        _tmp_arr = np.array(_curr_pl_feature_list_dict[track_features_to_investigate[_tfidx]])\n",
    "        _variances.append(np.std(_tmp_arr))\n",
    "\n",
    "    _pl_feature.extend(_avgs)\n",
    "    _pl_feature.extend(_variances)"
   ]
  },
  {
   "cell_type": "code",
   "execution_count": 19,
   "metadata": {},
   "outputs": [],
   "source": [
    "def plot_kde(data, bw_values=[0.001, 0.0001]):\n",
    "    kde = [scipy.stats.gaussian_kde(data, bw_method=bw) for bw in bw_values]\n",
    "    # plt.hist(data, 50, normed=1, facecolor='green', alpha=0.5);\n",
    "\n",
    "    t_range = np.linspace(-2,8,200)\n",
    "    for i, bw in enumerate(bw_values):\n",
    "        plt.plot(t_range,kde[i](t_range), lw=1, label='bw = '+str(bw))\n",
    "    plt.xlim(-1,6)\n",
    "    plt.legend(loc='best')"
   ]
  },
  {
   "cell_type": "code",
   "execution_count": null,
   "metadata": {},
   "outputs": [],
   "source": [
    "# Discretize\n",
    "# a is your data array\n",
    "hist, bins = np.histogram(a, bins=100, normed=True)\n",
    "bin_centers = (bins[1:]+bins[:-1])*0.5\n",
    "plt.plot(bin_centers, hist)"
   ]
  }
 ],
 "metadata": {
  "kernelspec": {
   "display_name": "Python 3",
   "language": "python",
   "name": "python3"
  },
  "language_info": {
   "codemirror_mode": {
    "name": "ipython",
    "version": 3
   },
   "file_extension": ".py",
   "mimetype": "text/x-python",
   "name": "python",
   "nbconvert_exporter": "python",
   "pygments_lexer": "ipython3",
   "version": "3.5.2"
  }
 },
 "nbformat": 4,
 "nbformat_minor": 2
}
