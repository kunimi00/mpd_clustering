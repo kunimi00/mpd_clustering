{
 "cells": [
  {
   "cell_type": "code",
   "execution_count": 46,
   "metadata": {},
   "outputs": [],
   "source": [
    "import numpy as np\n",
    "import pickle\n",
    "import os\n",
    "from tqdm import tqdm\n",
    "import json\n",
    "import discogs_client\n",
    "import csv\n",
    "import pandas as pd\n",
    "from util.util_data import *"
   ]
  },
  {
   "cell_type": "code",
   "execution_count": 47,
   "metadata": {},
   "outputs": [],
   "source": [
    "def save_obj_curr_folder(obj, name):\n",
    "    with open(name, 'wb') as f:\n",
    "        pickle.dump(obj, f, pickle.HIGHEST_PROTOCOL)\n",
    "\n",
    "def load_obj_curr_folder(name):\n",
    "    with open(name, 'rb') as f:\n",
    "        return pickle.load(f)"
   ]
  },
  {
   "cell_type": "code",
   "execution_count": 48,
   "metadata": {},
   "outputs": [],
   "source": [
    "\n",
    "## TXT format\n",
    "\n",
    "def save_list_as_txt(obj, path):\n",
    "    with open(path, 'w') as f:\n",
    "        for item in obj:\n",
    "            f.write(\"%s\\n\" % item)\n",
    "\n",
    "def load_txt_to_list(path):\n",
    "    with open(path, 'r') as f:\n",
    "        lines = [line.rstrip('\\n') for line in f.readlines()]\n",
    "    return lines\n",
    "\n",
    "\n",
    "\n",
    "## CSV format\n",
    "\n",
    "def save_list_as_csv(obj, path, _column_names):\n",
    "    df = pd.DataFrame(obj, columns=_column_names)\n",
    "    df.to_csv(path, index=False)\n",
    "    \n",
    "def load_csv_to_list(path, _delim=','):\n",
    "    with open(path) as csv_file:\n",
    "        csv_reader = csv.reader(csv_file, delimiter=_delim)\n",
    "        csv_list = list(csv_reader)\n",
    "    return csv_list\n",
    "\n",
    "def load_csv_to_df(path, out_format='tuple', _delim=','):\n",
    "    curr_df = pd.read_csv(path, delimiter=_delim)\n",
    "    if out_format == 'tuple':\n",
    "        return [tuple(x) for x in curr_df.values]\n",
    "    elif out_format == 'dict':\n",
    "        return curr_df.to_dict().values()\n",
    "\n",
    "\n",
    "    \n",
    "## JSON format\n",
    "    \n",
    "def save_dict_as_json(obj, path):\n",
    "    with open(path, 'w') as outfile:  \n",
    "        json.dump(obj, outfile)\n",
    "\n",
    "def load_json_to_dict(path):\n",
    "    f = open(path, encoding=\"latin-1\")\n",
    "    js = f.read()\n",
    "    f.close()\n",
    "    return json.loads(js)"
   ]
  },
  {
   "cell_type": "markdown",
   "metadata": {},
   "source": [
    "# (1) MSD with Last.fm metadata"
   ]
  },
  {
   "cell_type": "code",
   "execution_count": 3,
   "metadata": {},
   "outputs": [],
   "source": [
    "mel_base_dir = '/media/iu/MSD/mel128/'\n",
    "# lastfm_full_track_to_tags_txt_dict = load_obj_curr_folder('data_lastfm/lastfm_full_track_to_tags_txt_dict.p')\n",
    "msd_to_spotify_file_path = './data_lastfm/msd_to_spotify.tsv'"
   ]
  },
  {
   "cell_type": "code",
   "execution_count": 4,
   "metadata": {},
   "outputs": [],
   "source": [
    "msd_id_to_tag_vector = pickle.load(open('/media/iu/MSD/MSD_mel_split/MSD_split/msd_id_to_tag_vector.cP', 'rb'))\n",
    "MSD_id_to_7D_id = pickle.load(open('/media/iu/MSD/MSD_mel_split/MSD_split/MSD_id_to_7D_id.pkl', 'rb'))\n",
    "sevenD_id_to_path = pickle.load(open('/media/iu/MSD/MSD_mel_split/MSD_split/7D_id_to_path.pkl', 'rb'))\n",
    "filtered_list_train = pickle.load(open('/media/iu/MSD/MSD_mel_split/MSD_split/filtered_list_train.cP', 'rb'))\n",
    "filtered_list_test = pickle.load(open('/media/iu/MSD/MSD_mel_split/MSD_split/filtered_list_test.cP', 'rb'))"
   ]
  },
  {
   "cell_type": "code",
   "execution_count": 4,
   "metadata": {},
   "outputs": [],
   "source": [
    "mpd_data_path = '/media/irene/dataset/mpd.v1/data'\n",
    "mpd_filenames = os.listdir(mpd_data_path)"
   ]
  },
  {
   "cell_type": "code",
   "execution_count": 6,
   "metadata": {},
   "outputs": [
    {
     "data": {
      "text/plain": [
       "(505216, 1000000)"
      ]
     },
     "execution_count": 6,
     "metadata": {},
     "output_type": "execute_result"
    }
   ],
   "source": [
    "len(lastfm_full_track_to_tags_txt_dict), len(MSD_id_to_7D_id)"
   ]
  },
  {
   "cell_type": "code",
   "execution_count": 7,
   "metadata": {},
   "outputs": [
    {
     "name": "stdout",
     "output_type": "stream",
     "text": [
      "['dzr_id', 'msd_id', 'msd_origin', 'spotify_id', 'spotify_origin\\n']\n"
     ]
    }
   ],
   "source": [
    "msd_id_to_spotify_id_dict = dict()\n",
    "duplicates_msd = 0\n",
    "duplicates_msd_list = []\n",
    "with open(msd_to_spotify_file_path) as file:\n",
    "    curr_line = file.readline()\n",
    "    info = curr_line.split('\\t')\n",
    "    print(info)\n",
    "    curr_line = file.readline()\n",
    "    while curr_line:\n",
    "        info = curr_line.split('\\t')\n",
    "        try:\n",
    "            _ = msd_id_to_spotify_id_dict[info[1]]\n",
    "            duplicates_msd += 1\n",
    "            duplicates_msd_list.append((info[1], info[3]))\n",
    "            curr_line = file.readline()\n",
    "        except:\n",
    "            msd_id_to_spotify_id_dict[info[1]] = info[3]\n",
    "            curr_line = file.readline()\n",
    "            continue\n",
    "        "
   ]
  },
  {
   "cell_type": "code",
   "execution_count": 5,
   "metadata": {},
   "outputs": [
    {
     "name": "stdout",
     "output_type": "stream",
     "text": [
      "['dzr_id', 'msd_id', 'msd_origin', 'spotify_id', 'spotify_origin\\n']\n"
     ]
    }
   ],
   "source": [
    "spotify_id_to_msd_id_dict = dict()\n",
    "duplicates_spo = 0\n",
    "duplicates_spo_list = []\n",
    "line_cnt = 1\n",
    "with open(msd_to_spotify_file_path) as file:\n",
    "    curr_line = file.readline()\n",
    "    info = curr_line.split('\\t')\n",
    "    print(info)\n",
    "    curr_line = file.readline()\n",
    "    while curr_line:\n",
    "        line_cnt += 1\n",
    "        info = curr_line.split('\\t')\n",
    "        try:\n",
    "            _ = spotify_id_to_msd_id_dict[info[3]]\n",
    "            duplicates_spo += 1\n",
    "            duplicates_spo_list.append((info[3], info[1]))\n",
    "            curr_line = file.readline()\n",
    "            continue\n",
    "        except:\n",
    "            spotify_id_to_msd_id_dict[info[3]] = info[1]\n",
    "            \n",
    "            curr_line = file.readline()\n",
    "            continue"
   ]
  },
  {
   "cell_type": "code",
   "execution_count": 10,
   "metadata": {},
   "outputs": [
    {
     "data": {
      "text/plain": [
       "410272"
      ]
     },
     "execution_count": 10,
     "metadata": {},
     "output_type": "execute_result"
    }
   ],
   "source": [
    "line_cnt"
   ]
  },
  {
   "cell_type": "code",
   "execution_count": 8,
   "metadata": {},
   "outputs": [
    {
     "data": {
      "text/plain": [
       "(396745, 362889)"
      ]
     },
     "execution_count": 8,
     "metadata": {},
     "output_type": "execute_result"
    }
   ],
   "source": [
    "len(msd_id_to_spotify_id_dict), len(spotify_id_to_msd_id_dict)"
   ]
  },
  {
   "cell_type": "code",
   "execution_count": null,
   "metadata": {},
   "outputs": [],
   "source": [
    "track_ids_list = []\n",
    "track_ids_set = set()\n",
    "track_ids_desc_list = []\n",
    "track_ids_desc_set = set()\n",
    "\n",
    "for filename in tqdm(sorted(mpd_filenames)):\n",
    "    if filename.startswith(\"mpd.slice.\") and filename.endswith(\".json\"):\n",
    "        curr_pl_info_dir = os.sep.join(('/media/irene/dataset/mpd.v1/pl_info', filename.replace(\".json\", \"\")))\n",
    "        curr_json_dir = os.sep.join((mpd_data_path, filename))\n",
    "        \n",
    "        f = open(curr_json_dir, encoding=\"latin-1\")\n",
    "        js = f.read()\n",
    "        f.close()\n",
    "        mpd_slice = json.loads(js)\n",
    "        \n",
    "        for idx in range(len(mpd_slice['playlists'])):\n",
    "    \n",
    "            curr_tracks = mpd_slice['playlists'][idx]['tracks']\n",
    "            for _track in curr_tracks:\n",
    "                curr_tid = _track['track_uri'].split(':')[-1]\n",
    "                track_ids_list.append(curr_tid)\n",
    "                track_ids_set.add(curr_tid)\n",
    "                \n",
    "                if 'description' in list(mpd_slice['playlists'][idx].keys()):\n",
    "                    track_ids_desc_list.append(curr_tid)\n",
    "                    track_ids_desc_set.add(curr_tid)\n",
    "\n",
    "            "
   ]
  },
  {
   "cell_type": "code",
   "execution_count": 13,
   "metadata": {},
   "outputs": [
    {
     "data": {
      "text/plain": [
       "(66346428, 2262292, 1375515, 240690)"
      ]
     },
     "execution_count": 13,
     "metadata": {},
     "output_type": "execute_result"
    }
   ],
   "source": [
    "len(track_ids_list), len(track_ids_set), len(track_ids_desc_list), len(track_ids_desc_set)"
   ]
  },
  {
   "cell_type": "code",
   "execution_count": 29,
   "metadata": {},
   "outputs": [],
   "source": [
    "# track_ids_list = []\n",
    "# track_ids_desc_list = []"
   ]
  },
  {
   "cell_type": "code",
   "execution_count": 14,
   "metadata": {},
   "outputs": [],
   "source": [
    "mpd_unique_track_ids_list = list(track_ids_set)\n",
    "mpd_desc_unique_track_ids_list = list(track_ids_desc_set)"
   ]
  },
  {
   "cell_type": "code",
   "execution_count": 15,
   "metadata": {},
   "outputs": [
    {
     "data": {
      "text/plain": [
       "(2262292, 240690)"
      ]
     },
     "execution_count": 15,
     "metadata": {},
     "output_type": "execute_result"
    }
   ],
   "source": [
    "len(mpd_unique_track_ids_list), len(mpd_desc_unique_track_ids_list)"
   ]
  },
  {
   "cell_type": "code",
   "execution_count": 21,
   "metadata": {},
   "outputs": [],
   "source": [
    "with open('./mpd_handling/mpd_unique_track_ids_list.txt', 'w') as f:  \n",
    "    json.dump(mpd_unique_track_ids_list, f)\n",
    "\n",
    "with open('./mpd_handling/mpd_desc_unique_track_ids_list.txt', 'w') as f:  \n",
    "    json.dump(mpd_desc_unique_track_ids_list, f)\n"
   ]
  },
  {
   "cell_type": "code",
   "execution_count": 16,
   "metadata": {},
   "outputs": [
    {
     "data": {
      "text/plain": [
       "240690"
      ]
     },
     "execution_count": 16,
     "metadata": {},
     "output_type": "execute_result"
    }
   ],
   "source": [
    "len(mpd_desc_unique_track_ids_list)"
   ]
  },
  {
   "cell_type": "code",
   "execution_count": 17,
   "metadata": {},
   "outputs": [],
   "source": [
    "msd_ids_from_tsv = list(msd_id_to_spotify_id_dict.keys())\n",
    "spotify_ids_from_tsv = list(spotify_id_to_msd_id_dict.keys())"
   ]
  },
  {
   "cell_type": "code",
   "execution_count": 18,
   "metadata": {},
   "outputs": [
    {
     "data": {
      "text/plain": [
       "(396745, 362889)"
      ]
     },
     "execution_count": 18,
     "metadata": {},
     "output_type": "execute_result"
    }
   ],
   "source": [
    "len(msd_ids_from_tsv), len(spotify_ids_from_tsv)"
   ]
  },
  {
   "cell_type": "code",
   "execution_count": 19,
   "metadata": {},
   "outputs": [
    {
     "data": {
      "text/plain": [
       "'TRXGJMT12903CC4793'"
      ]
     },
     "execution_count": 19,
     "metadata": {},
     "output_type": "execute_result"
    }
   ],
   "source": [
    "msd_ids_from_tsv[0]"
   ]
  },
  {
   "cell_type": "code",
   "execution_count": 20,
   "metadata": {},
   "outputs": [
    {
     "data": {
      "text/plain": [
       "'1wiG5lgoZ6h73NtDIkFcEn'"
      ]
     },
     "execution_count": 20,
     "metadata": {},
     "output_type": "execute_result"
    }
   ],
   "source": [
    "mpd_desc_unique_track_ids_list[0]"
   ]
  },
  {
   "cell_type": "code",
   "execution_count": 21,
   "metadata": {},
   "outputs": [
    {
     "data": {
      "text/plain": [
       "'6XenAoRSGmBLX3IK5vT2WE'"
      ]
     },
     "execution_count": 21,
     "metadata": {},
     "output_type": "execute_result"
    }
   ],
   "source": [
    "spotify_ids_from_tsv[0]"
   ]
  },
  {
   "cell_type": "code",
   "execution_count": 22,
   "metadata": {},
   "outputs": [
    {
     "data": {
      "text/plain": [
       "362889"
      ]
     },
     "execution_count": 22,
     "metadata": {},
     "output_type": "execute_result"
    }
   ],
   "source": [
    "len(spotify_id_to_msd_id_dict)"
   ]
  },
  {
   "cell_type": "code",
   "execution_count": 23,
   "metadata": {},
   "outputs": [],
   "source": [
    "matching_spotify_ids_desc = []\n",
    "for _sid in mpd_desc_unique_track_ids_list:\n",
    "    try:\n",
    "        matching_spotify_ids_desc.append([_sid, spotify_id_to_msd_id_dict[_sid]])\n",
    "    except:\n",
    "        continue                                    "
   ]
  },
  {
   "cell_type": "code",
   "execution_count": 24,
   "metadata": {},
   "outputs": [
    {
     "data": {
      "text/plain": [
       "7963"
      ]
     },
     "execution_count": 24,
     "metadata": {},
     "output_type": "execute_result"
    }
   ],
   "source": [
    "len(matching_spotify_ids_desc)"
   ]
  },
  {
   "cell_type": "code",
   "execution_count": 25,
   "metadata": {},
   "outputs": [
    {
     "data": {
      "text/plain": [
       "2262292"
      ]
     },
     "execution_count": 25,
     "metadata": {},
     "output_type": "execute_result"
    }
   ],
   "source": [
    "len(mpd_unique_track_ids_list)"
   ]
  },
  {
   "cell_type": "code",
   "execution_count": null,
   "metadata": {},
   "outputs": [],
   "source": [
    "matching_spotify_ids = []\n",
    "for _sid in mpd_unique_track_ids_list:\n",
    "    try:\n",
    "        matching_spotify_ids.append([_sid, spotify_id_to_msd_id_dict[_sid]])\n",
    "    except:\n",
    "        continue                                    "
   ]
  },
  {
   "cell_type": "code",
   "execution_count": null,
   "metadata": {},
   "outputs": [],
   "source": [
    "len(matching_spotify_ids)"
   ]
  },
  {
   "cell_type": "code",
   "execution_count": null,
   "metadata": {},
   "outputs": [],
   "source": [
    "'''\n",
    "spotify ids in full MPD (1m) : 2262292\n",
    "spotify ids in matching tsv file : 362889 (removing duplicates from 410272)\n",
    "spotify ids in MPD with description (18760) : 240690\n",
    "spotify ids appearing in BOTH tsv (362889) and MPD with description (240690) : 7963 \n",
    "spotify ids appearing in BOTH tsv (362889) and  full MPD (2262292) : 70391 \n",
    "'''"
   ]
  },
  {
   "cell_type": "code",
   "execution_count": 14,
   "metadata": {},
   "outputs": [
    {
     "name": "stderr",
     "output_type": "stream",
     "text": [
      "100%|██████████| 1000/1000 [04:58<00:00,  3.35it/s]\n"
     ]
    }
   ],
   "source": [
    "pl_with_tracks_on_msd_10 = []\n",
    "pl_with_tracks_on_msd_30 = []\n",
    "pl_with_tracks_on_msd_50 = []\n",
    "pl_with_tracks_on_msd_70 = []\n",
    "num_tracks_list = []\n",
    "         \n",
    "for filename in tqdm(sorted(mpd_filenames)):\n",
    "    if filename.startswith(\"mpd.slice.\") and filename.endswith(\".json\"):\n",
    "        curr_pl_info_dir = os.sep.join(('/media/irene/dataset/mpd.v1/pl_info', filename.replace(\".json\", \"\")))\n",
    "        curr_json_dir = os.sep.join((mpd_data_path, filename))\n",
    "        \n",
    "        f = open(curr_json_dir, encoding=\"latin-1\")\n",
    "        js = f.read()\n",
    "        f.close()\n",
    "        mpd_slice = json.loads(js)\n",
    "        \n",
    "        for idx in range(len(mpd_slice['playlists'])):\n",
    "            \n",
    "            curr_tracks = mpd_slice['playlists'][idx]['tracks']\n",
    "            _filtered_tracks = []\n",
    "            for _track in curr_tracks:\n",
    "                curr_tid = _track['track_uri'].split(':')[-1]\n",
    "                try:\n",
    "                    _msd_id = spotify_id_to_msd_id_dict[curr_tid]\n",
    "                    _filtered_tracks.append(_msd_id)\n",
    "                except:\n",
    "                    pass\n",
    "            num_tracks_list.append([len(_filtered_tracks), len(curr_tracks)])\n",
    "            if len(_filtered_tracks) >= 0.1 * len(curr_tracks):\n",
    "                pl_with_tracks_on_msd_10.append(mpd_slice['playlists'][idx])\n",
    "            if len(_filtered_tracks) >= 0.3 * len(curr_tracks):\n",
    "                pl_with_tracks_on_msd_30.append(mpd_slice['playlists'][idx])\n",
    "            if len(_filtered_tracks) >= 0.5 * len(curr_tracks):\n",
    "                pl_with_tracks_on_msd_50.append(mpd_slice['playlists'][idx])\n",
    "            if len(_filtered_tracks) >= 0.7 * len(curr_tracks):\n",
    "                pl_with_tracks_on_msd_70.append(mpd_slice['playlists'][idx])"
   ]
  },
  {
   "cell_type": "code",
   "execution_count": 16,
   "metadata": {},
   "outputs": [],
   "source": [
    "pl_with_tracks_on_msd = []\n"
   ]
  },
  {
   "cell_type": "code",
   "execution_count": 17,
   "metadata": {},
   "outputs": [
    {
     "data": {
      "text/plain": [
       "(143183, 3470, 264, 15)"
      ]
     },
     "execution_count": 17,
     "metadata": {},
     "output_type": "execute_result"
    }
   ],
   "source": [
    "len(pl_with_tracks_on_msd_10),len(pl_with_tracks_on_msd_30),len(pl_with_tracks_on_msd_50),len(pl_with_tracks_on_msd_70)"
   ]
  },
  {
   "cell_type": "code",
   "execution_count": 18,
   "metadata": {},
   "outputs": [
    {
     "data": {
      "text/plain": [
       "1000000"
      ]
     },
     "execution_count": 18,
     "metadata": {},
     "output_type": "execute_result"
    }
   ],
   "source": [
    "len(num_tracks_list)"
   ]
  },
  {
   "cell_type": "code",
   "execution_count": 13,
   "metadata": {},
   "outputs": [],
   "source": [
    "save_list_as_txt(num_tracks_list, './num_tracks_list_msd.txt')"
   ]
  },
  {
   "cell_type": "code",
   "execution_count": 19,
   "metadata": {},
   "outputs": [],
   "source": [
    "save_dict_as_json(pl_with_tracks_on_msd_10, './data_pl_dzrmeta/pl_with_tracks_on_msd_10.json')\n",
    "save_dict_as_json(pl_with_tracks_on_msd_30, './data_pl_dzrmeta/pl_with_tracks_on_msd_30.json')\n",
    "save_dict_as_json(pl_with_tracks_on_msd_50, './data_pl_dzrmeta/pl_with_tracks_on_msd_50.json')\n",
    "save_dict_as_json(pl_with_tracks_on_msd_70, './data_pl_dzrmeta/pl_with_tracks_on_msd_70.json')"
   ]
  },
  {
   "cell_type": "code",
   "execution_count": null,
   "metadata": {},
   "outputs": [],
   "source": [
    "pl_with_tracks_on_msd_10 = []\n",
    "pl_with_tracks_on_msd_30 = []\n",
    "pl_with_tracks_on_msd_50 = []\n",
    "pl_with_tracks_on_msd_70 = []"
   ]
  },
  {
   "cell_type": "code",
   "execution_count": null,
   "metadata": {},
   "outputs": [],
   "source": [
    "num_tracks_list = []"
   ]
  },
  {
   "cell_type": "code",
   "execution_count": null,
   "metadata": {},
   "outputs": [],
   "source": []
  },
  {
   "cell_type": "code",
   "execution_count": null,
   "metadata": {},
   "outputs": [],
   "source": []
  },
  {
   "cell_type": "code",
   "execution_count": 21,
   "metadata": {},
   "outputs": [
    {
     "data": {
      "text/plain": [
       "362889"
      ]
     },
     "execution_count": 21,
     "metadata": {},
     "output_type": "execute_result"
    }
   ],
   "source": [
    "len(list(spotify_id_to_msd_id_dict.keys()))"
   ]
  },
  {
   "cell_type": "code",
   "execution_count": null,
   "metadata": {},
   "outputs": [],
   "source": []
  },
  {
   "cell_type": "markdown",
   "metadata": {},
   "source": [
    "# (2) DZR metadata"
   ]
  },
  {
   "cell_type": "code",
   "execution_count": 31,
   "metadata": {},
   "outputs": [
    {
     "data": {
      "text/plain": [
       "240690"
      ]
     },
     "execution_count": 31,
     "metadata": {},
     "output_type": "execute_result"
    }
   ],
   "source": [
    "len(mpd_desc_unique_track_ids_list)"
   ]
  },
  {
   "cell_type": "code",
   "execution_count": 49,
   "metadata": {},
   "outputs": [],
   "source": [
    "tmp_list = load_csv_to_df('./data_pl_dzrmeta/reco_tags_mpd_extend.csv')"
   ]
  },
  {
   "cell_type": "code",
   "execution_count": 50,
   "metadata": {},
   "outputs": [
    {
     "data": {
      "text/plain": [
       "(517168622, '7phWuVdFOthZj7xHAVPRwE', 'jazz', 'genre')"
      ]
     },
     "execution_count": 50,
     "metadata": {},
     "output_type": "execute_result"
    }
   ],
   "source": [
    "tmp_list[0]"
   ]
  },
  {
   "cell_type": "code",
   "execution_count": 51,
   "metadata": {},
   "outputs": [],
   "source": [
    "spotify_id_to_metadata_dict = dict()\n",
    "spotify_id_set = set()\n",
    "dzr_feature_name_set = set()\n",
    "\n",
    "for _item in tmp_list:\n",
    "    spotify_id_set.add(_item[1])\n",
    "    spotify_id_to_metadata_dict[_item[1]] = dict()\n",
    "    dzr_feature_name_set.add(_item[-1]) "
   ]
  },
  {
   "cell_type": "code",
   "execution_count": 52,
   "metadata": {},
   "outputs": [
    {
     "data": {
      "text/plain": [
       "{'audience',\n",
       " 'audio_content',\n",
       " 'belief',\n",
       " 'category',\n",
       " 'decade',\n",
       " 'formation',\n",
       " 'genre',\n",
       " 'influence',\n",
       " 'instrument',\n",
       " 'lang',\n",
       " 'location',\n",
       " 'location:city',\n",
       " 'location:continent',\n",
       " 'location:region',\n",
       " 'mood',\n",
       " 'mood:activity',\n",
       " 'mood:celebration',\n",
       " 'mood:day',\n",
       " 'mood:day_moment',\n",
       " 'mood:emotion',\n",
       " 'mood:moment',\n",
       " 'mood:season',\n",
       " 'mood:situation',\n",
       " 'mood:weather',\n",
       " 'movie:genre',\n",
       " 'musical_form',\n",
       " 'period',\n",
       " 'record_type',\n",
       " 'role',\n",
       " 'singer_type'}"
      ]
     },
     "execution_count": 52,
     "metadata": {},
     "output_type": "execute_result"
    }
   ],
   "source": [
    "dzr_feature_name_set"
   ]
  },
  {
   "cell_type": "code",
   "execution_count": 53,
   "metadata": {},
   "outputs": [
    {
     "data": {
      "text/plain": [
       "(96773, 96773)"
      ]
     },
     "execution_count": 53,
     "metadata": {},
     "output_type": "execute_result"
    }
   ],
   "source": [
    "len(spotify_id_to_metadata_dict), len(spotify_id_set)"
   ]
  },
  {
   "cell_type": "code",
   "execution_count": 54,
   "metadata": {},
   "outputs": [],
   "source": [
    "for _s_id in list(spotify_id_set):\n",
    "    for _feature in dzr_feature_name_set:\n",
    "        spotify_id_to_metadata_dict[_s_id][_feature] = []"
   ]
  },
  {
   "cell_type": "code",
   "execution_count": 55,
   "metadata": {},
   "outputs": [
    {
     "data": {
      "text/plain": [
       "{'audience': [],\n",
       " 'audio_content': [],\n",
       " 'belief': [],\n",
       " 'category': [],\n",
       " 'decade': [],\n",
       " 'formation': [],\n",
       " 'genre': [],\n",
       " 'influence': [],\n",
       " 'instrument': [],\n",
       " 'lang': [],\n",
       " 'location': [],\n",
       " 'location:city': [],\n",
       " 'location:continent': [],\n",
       " 'location:region': [],\n",
       " 'mood': [],\n",
       " 'mood:activity': [],\n",
       " 'mood:celebration': [],\n",
       " 'mood:day': [],\n",
       " 'mood:day_moment': [],\n",
       " 'mood:emotion': [],\n",
       " 'mood:moment': [],\n",
       " 'mood:season': [],\n",
       " 'mood:situation': [],\n",
       " 'mood:weather': [],\n",
       " 'movie:genre': [],\n",
       " 'musical_form': [],\n",
       " 'period': [],\n",
       " 'record_type': [],\n",
       " 'role': [],\n",
       " 'singer_type': []}"
      ]
     },
     "execution_count": 55,
     "metadata": {},
     "output_type": "execute_result"
    }
   ],
   "source": [
    "spotify_id_to_metadata_dict[list(spotify_id_set)[0]]"
   ]
  },
  {
   "cell_type": "code",
   "execution_count": 56,
   "metadata": {},
   "outputs": [],
   "source": [
    "# (517168622, '7phWuVdFOthZj7xHAVPRwE', 'jazz', 'genre')\n",
    "for _item in tmp_list:\n",
    "    spotify_id_to_metadata_dict[_item[1]][_item[-1]].append(_item[2])"
   ]
  },
  {
   "cell_type": "code",
   "execution_count": 57,
   "metadata": {},
   "outputs": [
    {
     "data": {
      "text/plain": [
       "{'audience': [],\n",
       " 'audio_content': [],\n",
       " 'belief': [],\n",
       " 'category': ['instrumental'],\n",
       " 'decade': ['00s'],\n",
       " 'formation': [],\n",
       " 'genre': ['jazz', 'soul', 'blues', 'rock'],\n",
       " 'influence': [],\n",
       " 'instrument': [],\n",
       " 'lang': ['en'],\n",
       " 'location': ['us'],\n",
       " 'location:city': ['new_orleans'],\n",
       " 'location:continent': ['north_america'],\n",
       " 'location:region': [],\n",
       " 'mood': [],\n",
       " 'mood:activity': [],\n",
       " 'mood:celebration': [],\n",
       " 'mood:day': [],\n",
       " 'mood:day_moment': [],\n",
       " 'mood:emotion': [],\n",
       " 'mood:moment': [],\n",
       " 'mood:season': [],\n",
       " 'mood:situation': [],\n",
       " 'mood:weather': [],\n",
       " 'movie:genre': [],\n",
       " 'musical_form': [],\n",
       " 'period': [],\n",
       " 'record_type': [],\n",
       " 'role': [],\n",
       " 'singer_type': []}"
      ]
     },
     "execution_count": 57,
     "metadata": {},
     "output_type": "execute_result"
    }
   ],
   "source": [
    "spotify_id_to_metadata_dict['7p3fdx7dopTkUmZH7Ucedb']"
   ]
  },
  {
   "cell_type": "code",
   "execution_count": 14,
   "metadata": {},
   "outputs": [],
   "source": [
    "save_dict_as_json(spotify_id_to_metadata_dict, './data_pl_dzrmeta/spotify_id_to_metadata_dict.json')"
   ]
  },
  {
   "cell_type": "code",
   "execution_count": 42,
   "metadata": {},
   "outputs": [
    {
     "data": {
      "text/plain": [
       "(240690, 2262292)"
      ]
     },
     "execution_count": 42,
     "metadata": {},
     "output_type": "execute_result"
    }
   ],
   "source": [
    "len(mpd_desc_unique_track_ids_list), len(mpd_unique_track_ids_list)"
   ]
  },
  {
   "cell_type": "code",
   "execution_count": 15,
   "metadata": {},
   "outputs": [
    {
     "data": {
      "text/plain": [
       "96773"
      ]
     },
     "execution_count": 15,
     "metadata": {},
     "output_type": "execute_result"
    }
   ],
   "source": [
    "len(spotify_id_to_metadata_dict)"
   ]
  },
  {
   "cell_type": "code",
   "execution_count": 16,
   "metadata": {},
   "outputs": [],
   "source": [
    "dzr_metadata_key_list = list(spotify_id_to_metadata_dict['7p3fdx7dopTkUmZH7Ucedb'].keys())"
   ]
  },
  {
   "cell_type": "code",
   "execution_count": 17,
   "metadata": {},
   "outputs": [
    {
     "name": "stdout",
     "output_type": "stream",
     "text": [
      "['mood:celebration', 'location:region', 'belief', 'musical_form', 'decade', 'role', 'period', 'instrument', 'mood:situation', 'influence', 'genre', 'audience', 'record_type', 'formation', 'mood:weather', 'category', 'movie:genre', 'mood:day_moment', 'lang', 'mood:activity', 'location:continent', 'singer_type', 'audio_content', 'location:city', 'location', 'mood', 'mood:moment', 'mood:day', 'mood:season', 'mood:emotion']\n"
     ]
    }
   ],
   "source": [
    "print(dzr_metadata_key_list)"
   ]
  },
  {
   "cell_type": "code",
   "execution_count": 18,
   "metadata": {},
   "outputs": [
    {
     "name": "stderr",
     "output_type": "stream",
     "text": [
      "100%|██████████| 1000/1000 [05:01<00:00,  3.32it/s]\n"
     ]
    }
   ],
   "source": [
    "# pl_with_tracks_on_dzrmeta_10 = []\n",
    "# pl_with_tracks_on_dzrmeta_30 = []\n",
    "pl_with_tracks_on_dzrmeta_50 = []\n",
    "pl_with_tracks_on_dzrmeta_70 = []\n",
    "num_tracks_list_dzrmeta = []\n",
    "         \n",
    "for filename in tqdm(sorted(mpd_filenames)):\n",
    "    if filename.startswith(\"mpd.slice.\") and filename.endswith(\".json\"):\n",
    "        curr_pl_info_dir = os.sep.join(('/media/irene/dataset/mpd.v1/pl_info', filename.replace(\".json\", \"\")))\n",
    "        curr_json_dir = os.sep.join((mpd_data_path, filename))\n",
    "        \n",
    "        f = open(curr_json_dir, encoding=\"latin-1\")\n",
    "        js = f.read()\n",
    "        f.close()\n",
    "        mpd_slice = json.loads(js)\n",
    "        \n",
    "        for idx in range(len(mpd_slice['playlists'])):\n",
    "            \n",
    "            curr_tracks = mpd_slice['playlists'][idx]['tracks']\n",
    "            _filtered_tracks = []\n",
    "            for _track in curr_tracks:\n",
    "                curr_tid = _track['track_uri'].split(':')[-1]\n",
    "                try:\n",
    "                    _ = spotify_id_to_metadata_dict[curr_tid]\n",
    "                    _filtered_tracks.append(curr_tid)\n",
    "                except:\n",
    "                    pass\n",
    "            num_tracks_list_dzrmeta.append([len(_filtered_tracks), len(curr_tracks)])\n",
    "#             if len(_filtered_tracks) >= 0.1 * len(curr_tracks):\n",
    "#                 pl_with_tracks_on_dzrmeta_10.append(mpd_slice['playlists'][idx])\n",
    "#             if len(_filtered_tracks) >= 0.3 * len(curr_tracks):\n",
    "#                 pl_with_tracks_on_dzrmeta_30.append(mpd_slice['playlists'][idx])\n",
    "            if len(_filtered_tracks) >= 0.5 * len(curr_tracks):\n",
    "                pl_with_tracks_on_dzrmeta_50.append(mpd_slice['playlists'][idx])\n",
    "            if len(_filtered_tracks) >= 0.7 * len(curr_tracks):\n",
    "                pl_with_tracks_on_dzrmeta_70.append(mpd_slice['playlists'][idx])\n",
    "\n"
   ]
  },
  {
   "cell_type": "code",
   "execution_count": 19,
   "metadata": {},
   "outputs": [
    {
     "data": {
      "text/plain": [
       "1000000"
      ]
     },
     "execution_count": 19,
     "metadata": {},
     "output_type": "execute_result"
    }
   ],
   "source": [
    "len(num_tracks_list_dzrmeta)"
   ]
  },
  {
   "cell_type": "code",
   "execution_count": 22,
   "metadata": {},
   "outputs": [
    {
     "data": {
      "text/plain": [
       "(137247, 9680)"
      ]
     },
     "execution_count": 22,
     "metadata": {},
     "output_type": "execute_result"
    }
   ],
   "source": [
    "# len(pl_with_tracks_on_dzrmeta_10),len(pl_with_tracks_on_dzrmeta_30),\n",
    "\n",
    "len(pl_with_tracks_on_dzrmeta_50),len(pl_with_tracks_on_dzrmeta_70)"
   ]
  },
  {
   "cell_type": "code",
   "execution_count": 21,
   "metadata": {},
   "outputs": [],
   "source": [
    "save_list_as_txt(num_tracks_list_dzrmeta, './num_tracks_list_dzrmeta.txt')\n",
    "save_dict_as_json(pl_with_tracks_on_dzrmeta_50, './data_pl_dzrmeta/pl_with_tracks_on_dzrmeta_50.json')\n",
    "save_dict_as_json(pl_with_tracks_on_dzrmeta_70, './data_pl_dzrmeta/pl_with_tracks_on_dzrmeta_70.json')"
   ]
  },
  {
   "cell_type": "code",
   "execution_count": 33,
   "metadata": {},
   "outputs": [],
   "source": [
    "spotify_ids_in_mpd_and_recom = []\n",
    "for _pl in pl_with_tracks_on_dzrmeta_50:\n",
    "    for _s_id in _pl['tracks']:\n",
    "        curr_s_id = _s_id['track_uri'].split(':')[-1]\n",
    "        try:\n",
    "            _ = spotify_id_to_metadata_dict[curr_s_id]\n",
    "            spotify_ids_in_mpd_and_recom.append(curr_s_id)\n",
    "        except:\n",
    "            pass"
   ]
  },
  {
   "cell_type": "code",
   "execution_count": 34,
   "metadata": {},
   "outputs": [
    {
     "data": {
      "text/plain": [
       "3606971"
      ]
     },
     "execution_count": 34,
     "metadata": {},
     "output_type": "execute_result"
    }
   ],
   "source": [
    "len(spotify_ids_in_mpd_and_recom)"
   ]
  },
  {
   "cell_type": "code",
   "execution_count": null,
   "metadata": {},
   "outputs": [],
   "source": [
    "# categorizing context of playlist "
   ]
  },
  {
   "cell_type": "code",
   "execution_count": null,
   "metadata": {},
   "outputs": [],
   "source": []
  },
  {
   "cell_type": "code",
   "execution_count": null,
   "metadata": {},
   "outputs": [],
   "source": []
  },
  {
   "cell_type": "code",
   "execution_count": null,
   "metadata": {},
   "outputs": [],
   "source": []
  },
  {
   "cell_type": "code",
   "execution_count": 58,
   "metadata": {},
   "outputs": [],
   "source": [
    "sets_on_dzr_metadata = dict()\n",
    "total_num_features_on_dzr_metadata = dict()\n",
    "num_tracks_with_each_dzr_metadata = dict()\n",
    "for feature in dzr_feature_name_set:\n",
    "    sets_on_dzr_metadata[feature] = set()\n",
    "    total_num_features_on_dzr_metadata[feature] = 0\n",
    "    num_tracks_with_each_dzr_metadata[feature] = 0"
   ]
  },
  {
   "cell_type": "code",
   "execution_count": 59,
   "metadata": {},
   "outputs": [],
   "source": [
    "for _sid in spotify_ids_in_mpd_and_recom:\n",
    "    curr_metadata = spotify_id_to_metadata_dict[_sid]\n",
    "    for feature in dzr_feature_name_set:\n",
    "        for _f in curr_metadata[feature]:\n",
    "            sets_on_dzr_metadata[feature].add(_f)\n",
    "            total_num_features_on_dzr_metadata[feature] += 1\n",
    "        if len(curr_metadata[feature]) > 0:\n",
    "            num_tracks_with_each_dzr_metadata[feature] += 1"
   ]
  },
  {
   "cell_type": "code",
   "execution_count": 45,
   "metadata": {},
   "outputs": [],
   "source": [
    "save_list_as_txt(sets_on_dzr_metadata, './data_pl_dzrmeta/sets_on_dzr_metadata.txt')\n",
    "save_dict_as_json(total_num_features_on_dzr_metadata, './data_pl_dzrmeta/total_num_features_on_dzr_metadata_50.json')\n",
    "save_dict_as_json(num_tracks_with_each_dzr_metadata, './data_pl_dzrmeta/num_tracks_with_each_dzr_metadata_50.json')"
   ]
  },
  {
   "cell_type": "code",
   "execution_count": 43,
   "metadata": {},
   "outputs": [],
   "source": [
    "save_list_as_txt(spotify_ids_in_mpd_and_recom, './data_pl_dzrmeta/spotify_ids_in_mpd_and_recom.txt')"
   ]
  },
  {
   "cell_type": "code",
   "execution_count": 44,
   "metadata": {},
   "outputs": [
    {
     "data": {
      "text/plain": [
       "3606971"
      ]
     },
     "execution_count": 44,
     "metadata": {},
     "output_type": "execute_result"
    }
   ],
   "source": [
    "len(spotify_ids_in_mpd_and_recom)"
   ]
  },
  {
   "cell_type": "code",
   "execution_count": null,
   "metadata": {},
   "outputs": [],
   "source": []
  },
  {
   "cell_type": "code",
   "execution_count": 37,
   "metadata": {
    "scrolled": false
   },
   "outputs": [
    {
     "data": {
      "text/plain": [
       "{'audience': {'mainstream', 'new_releases'},\n",
       " 'audio_content': {'fast_pulse', 'slow_pulse', 'strong_pulse'},\n",
       " 'belief': {'christian', 'jewish', 'political', 'religious'},\n",
       " 'category': {'a_capella',\n",
       "  'acoustic',\n",
       "  'animal',\n",
       "  'anthem',\n",
       "  'audiobook',\n",
       "  'classic',\n",
       "  'cover',\n",
       "  'crossover',\n",
       "  'disney',\n",
       "  'electric',\n",
       "  'experimental',\n",
       "  'hits',\n",
       "  'indie',\n",
       "  'instrumental',\n",
       "  'kids',\n",
       "  'modern',\n",
       "  'nouvelle_scene',\n",
       "  'oldschool',\n",
       "  'poetry',\n",
       "  'prayer',\n",
       "  'safe_for_kids',\n",
       "  'sound_effects',\n",
       "  'soundtrack_movies',\n",
       "  'soundtrack_tv',\n",
       "  'speech',\n",
       "  'spoken',\n",
       "  'traditionnal',\n",
       "  'underground'},\n",
       " 'decade': {'00s',\n",
       "  '10s',\n",
       "  '20s',\n",
       "  '30s',\n",
       "  '40s',\n",
       "  '50s',\n",
       "  '60s',\n",
       "  '70s',\n",
       "  '80s',\n",
       "  '90s'},\n",
       " 'formation': {'choral', 'quartet', 'trio'},\n",
       " 'genre': {'abstract_hip_hop',\n",
       "  'acid_house',\n",
       "  'acid_jazz',\n",
       "  'afrobeat',\n",
       "  'aggrotech',\n",
       "  'alternative',\n",
       "  'alternative_americana',\n",
       "  'alternative_country',\n",
       "  'alternative_emo',\n",
       "  'alternative_metal',\n",
       "  'alternative_rock',\n",
       "  'ambeat',\n",
       "  'americana',\n",
       "  'animated',\n",
       "  'arabic_pop',\n",
       "  'avant_garde',\n",
       "  'axe',\n",
       "  'bachata',\n",
       "  'banda',\n",
       "  'bebop',\n",
       "  'bhangra',\n",
       "  'big_band',\n",
       "  'black_metal',\n",
       "  'bluegrass',\n",
       "  'blues',\n",
       "  'blues_rock',\n",
       "  'bolero',\n",
       "  'bossa_nova',\n",
       "  'breakbeat',\n",
       "  'breaks',\n",
       "  'britpop',\n",
       "  'britrock',\n",
       "  'bubblegum_pop',\n",
       "  'c_pop',\n",
       "  'cajun',\n",
       "  'calypso',\n",
       "  'celtic',\n",
       "  'chamber_music',\n",
       "  'chamber_pop',\n",
       "  'champeta',\n",
       "  'chanson_francaise',\n",
       "  'chillwave',\n",
       "  'chiptune',\n",
       "  'christian_hip_hop',\n",
       "  'christian_rock',\n",
       "  'classic_rock',\n",
       "  'classical',\n",
       "  'comedy',\n",
       "  'corrido',\n",
       "  'country',\n",
       "  'crunk',\n",
       "  'cumbia',\n",
       "  'dancehall',\n",
       "  'darkwave',\n",
       "  'death_metal',\n",
       "  'deathcore',\n",
       "  'deep_house',\n",
       "  'delta_blues',\n",
       "  'disco',\n",
       "  'doom_metal',\n",
       "  'drum_and_bass',\n",
       "  'dub',\n",
       "  'dubstep',\n",
       "  'easy_listening',\n",
       "  'edm',\n",
       "  'electro',\n",
       "  'electro_swing',\n",
       "  'electronic_chillout',\n",
       "  'electronic_downtempo',\n",
       "  'electronic_industrial',\n",
       "  'electronic_lounge',\n",
       "  'electronica',\n",
       "  'emo',\n",
       "  'eurodance',\n",
       "  'flamenco',\n",
       "  'folk',\n",
       "  'folk_rock',\n",
       "  'forro',\n",
       "  'free_jazz',\n",
       "  'french_touch',\n",
       "  'funk',\n",
       "  'funk_carioca',\n",
       "  'gangsta_rap',\n",
       "  'garage_rock',\n",
       "  'gipsy_jazz',\n",
       "  'glam_rock',\n",
       "  'glitch_hop',\n",
       "  'goa',\n",
       "  'gospel',\n",
       "  'gothic_metal',\n",
       "  'gothic_rock',\n",
       "  'grime',\n",
       "  'grunge',\n",
       "  'grupera',\n",
       "  'guitar_classic',\n",
       "  'hard_bop',\n",
       "  'hard_rock',\n",
       "  'hardcore_punk',\n",
       "  'hardstyle',\n",
       "  'heavy_metal',\n",
       "  'highlife',\n",
       "  'hip_hop',\n",
       "  'house',\n",
       "  'idm',\n",
       "  'indie_pop',\n",
       "  'indie_rock',\n",
       "  'industrial_metal',\n",
       "  'industrial_rock',\n",
       "  'j_pop',\n",
       "  'jazz',\n",
       "  'jazz_downtempo',\n",
       "  'jazz_fusion',\n",
       "  'jazz_lounge',\n",
       "  'jungle',\n",
       "  'k_pop',\n",
       "  'kizomba',\n",
       "  'klezmer',\n",
       "  'kompa',\n",
       "  'latin_electro',\n",
       "  'latin_hip_hop',\n",
       "  'latin_jazz',\n",
       "  'latin_pop',\n",
       "  'latin_rock',\n",
       "  'latin_tradicional',\n",
       "  'lo_fi',\n",
       "  'mambo',\n",
       "  'mariachis',\n",
       "  'math_rock',\n",
       "  'melodic_death_metal',\n",
       "  'merengue',\n",
       "  'metal',\n",
       "  'metalcore',\n",
       "  'minimal',\n",
       "  'minimalism',\n",
       "  'motown',\n",
       "  'mpb',\n",
       "  'musicals',\n",
       "  'nature',\n",
       "  'neo_folk',\n",
       "  'neo_soul',\n",
       "  'new_age',\n",
       "  'new_wave',\n",
       "  'noise_rock',\n",
       "  'nortena',\n",
       "  'nu_disco',\n",
       "  'nuevo_bolero',\n",
       "  'nuevo_flamenco',\n",
       "  'numetal',\n",
       "  'opm',\n",
       "  'pop',\n",
       "  'pop_rock',\n",
       "  'post_punk',\n",
       "  'power_pop',\n",
       "  'progressive_house',\n",
       "  'progressive_metal',\n",
       "  'progressive_rock',\n",
       "  'psychedelic_rock',\n",
       "  'psychobilly',\n",
       "  'punk',\n",
       "  'r&b',\n",
       "  'ragga',\n",
       "  'rai',\n",
       "  'ranchera',\n",
       "  'rap',\n",
       "  'rap_metal',\n",
       "  'reggae',\n",
       "  'reggaeton',\n",
       "  'rock',\n",
       "  'rock_and_roll',\n",
       "  'rockabilly',\n",
       "  'rocksteady',\n",
       "  'rumba',\n",
       "  'salsa',\n",
       "  'salsa_dura',\n",
       "  'samba',\n",
       "  'schlager',\n",
       "  'screamo',\n",
       "  'sertanejo',\n",
       "  'shoegaze',\n",
       "  'ska',\n",
       "  'slam',\n",
       "  'smooth_jazz',\n",
       "  'soca',\n",
       "  'soft_rock',\n",
       "  'soul',\n",
       "  'soundtrack_omp',\n",
       "  'speed_metal',\n",
       "  'stoner_rock',\n",
       "  'sunshine_pop',\n",
       "  'symphonic_metal',\n",
       "  'synthpop',\n",
       "  'tango',\n",
       "  'tech_house',\n",
       "  'techno',\n",
       "  'tejano',\n",
       "  'thrash_metal',\n",
       "  'trance',\n",
       "  'trap',\n",
       "  'tribal_house',\n",
       "  'trip_hop',\n",
       "  'trova',\n",
       "  'turntablism',\n",
       "  'uk_garage',\n",
       "  'vallenato',\n",
       "  'viking_metal',\n",
       "  'vocal_jazz',\n",
       "  'zim',\n",
       "  'zolo',\n",
       "  'zouk'},\n",
       " 'influence': {'beatles'},\n",
       " 'instrument': {'bass',\n",
       "  'cello',\n",
       "  'drums',\n",
       "  'guitar',\n",
       "  'harmonica',\n",
       "  'harpe',\n",
       "  'marimba',\n",
       "  'orchestra',\n",
       "  'organ',\n",
       "  'percussion',\n",
       "  'piano',\n",
       "  'saxophone',\n",
       "  'trombone',\n",
       "  'trumpet',\n",
       "  'vibraphone',\n",
       "  'violin',\n",
       "  'vocal'},\n",
       " 'lang': {'af',\n",
       "  'ar',\n",
       "  'cs',\n",
       "  'da',\n",
       "  'de',\n",
       "  'en',\n",
       "  'es',\n",
       "  'et',\n",
       "  'fi',\n",
       "  'fr',\n",
       "  'hr',\n",
       "  'hu',\n",
       "  'id',\n",
       "  'it',\n",
       "  'ja',\n",
       "  'nl',\n",
       "  'no',\n",
       "  'pl',\n",
       "  'pt',\n",
       "  'ru',\n",
       "  'so',\n",
       "  'sv',\n",
       "  'sw',\n",
       "  'tl',\n",
       "  'tr'},\n",
       " 'location': {'argentina',\n",
       "  'australia',\n",
       "  'austria',\n",
       "  'bahamas',\n",
       "  'bali',\n",
       "  'belgium',\n",
       "  'brazil',\n",
       "  'cambodia',\n",
       "  'cameroon',\n",
       "  'canada',\n",
       "  'cape_verde',\n",
       "  'chile',\n",
       "  'china',\n",
       "  'colombia',\n",
       "  'congo',\n",
       "  'cuba',\n",
       "  'denmark',\n",
       "  'ecuador',\n",
       "  'egypt',\n",
       "  'ethiopia',\n",
       "  'finland',\n",
       "  'france',\n",
       "  'germany',\n",
       "  'greece',\n",
       "  'guatemala',\n",
       "  'hawaiian',\n",
       "  'iceland',\n",
       "  'india',\n",
       "  'indonesia',\n",
       "  'ireland',\n",
       "  'israel',\n",
       "  'italy',\n",
       "  'jamaica',\n",
       "  'japan',\n",
       "  'korea',\n",
       "  'latvia',\n",
       "  'mali',\n",
       "  'mexico',\n",
       "  'netherlands',\n",
       "  'nigeria',\n",
       "  'norway',\n",
       "  'poland',\n",
       "  'portugal',\n",
       "  'russia',\n",
       "  'scotland',\n",
       "  'senegal',\n",
       "  'south_africa',\n",
       "  'spain',\n",
       "  'sweden',\n",
       "  'swiss',\n",
       "  'thai',\n",
       "  'tibet',\n",
       "  'tunisia',\n",
       "  'turkey',\n",
       "  'uk',\n",
       "  'ukraine',\n",
       "  'us',\n",
       "  'vietnam'},\n",
       " 'location:city': {'chicago',\n",
       "  'detroit',\n",
       "  'london',\n",
       "  'los_angeles',\n",
       "  'memphis',\n",
       "  'new_orleans',\n",
       "  'new_york',\n",
       "  'paris',\n",
       "  'philly',\n",
       "  'san_francisco'},\n",
       " 'location:continent': {'africa',\n",
       "  'asia',\n",
       "  'europe',\n",
       "  'north_america',\n",
       "  'oceania',\n",
       "  'south_america'},\n",
       " 'location:region': {'baltic',\n",
       "  'caribbean',\n",
       "  'central_america',\n",
       "  'east_coast',\n",
       "  'eastern_europe',\n",
       "  'louisiana',\n",
       "  'maghreb',\n",
       "  'middle_east',\n",
       "  'midwest',\n",
       "  'quebec',\n",
       "  'scandinavia',\n",
       "  'texas',\n",
       "  'west_africa',\n",
       "  'west_coast',\n",
       "  'western_europe'},\n",
       " 'mood': {'ambient',\n",
       "  'ballad',\n",
       "  'chillout',\n",
       "  'groove',\n",
       "  'latin_romantic',\n",
       "  'psychedelic',\n",
       "  'sailor',\n",
       "  'tropical'},\n",
       " 'mood:activity': {'dance', 'fitness', 'meditation', 'running', 'sport'},\n",
       " 'mood:celebration': {'christmas', 'halloween'},\n",
       " 'mood:day': {'friday', 'monday', 'thursday', 'tuesday', 'wednesday'},\n",
       " 'mood:day_moment': {'morning', 'night'},\n",
       " 'mood:emotion': {'agressive',\n",
       "  'brutal',\n",
       "  'calm',\n",
       "  'energetic',\n",
       "  'funky',\n",
       "  'happy',\n",
       "  'love',\n",
       "  'relax',\n",
       "  'relaxative',\n",
       "  'sad',\n",
       "  'sexual',\n",
       "  'sweet'},\n",
       " 'mood:moment': {'summertime'},\n",
       " 'mood:season': {'summer'},\n",
       " 'mood:situation': {'club',\n",
       "  'party',\n",
       "  'road',\n",
       "  'skate',\n",
       "  'surf',\n",
       "  'wedding',\n",
       "  'work'},\n",
       " 'mood:weather': {'sunny'},\n",
       " 'movie:genre': {'action',\n",
       "  'adventure',\n",
       "  'bollywood',\n",
       "  'family',\n",
       "  'horror',\n",
       "  'thriller',\n",
       "  'western'},\n",
       " 'musical_form': {'ballet', 'concerto', 'lied', 'opera', 'symphony', 'waltz'},\n",
       " 'period': {'baroque', 'contemporary', 'early_music', 'medieval', 'romantic'},\n",
       " 'record_type': {'karaoke', 'live', 'remix'},\n",
       " 'role': {'dj'},\n",
       " 'singer_type': {'duo', 'female', 'male'}}"
      ]
     },
     "execution_count": 37,
     "metadata": {},
     "output_type": "execute_result"
    }
   ],
   "source": [
    "sets_on_dzr_metadata"
   ]
  },
  {
   "cell_type": "code",
   "execution_count": 38,
   "metadata": {},
   "outputs": [
    {
     "data": {
      "text/plain": [
       "{'audience': 88113,\n",
       " 'audio_content': 87235,\n",
       " 'belief': 205150,\n",
       " 'category': 2946463,\n",
       " 'decade': 3667608,\n",
       " 'formation': 171,\n",
       " 'genre': 7824564,\n",
       " 'influence': 15815,\n",
       " 'instrument': 2562252,\n",
       " 'lang': 3399149,\n",
       " 'location': 782896,\n",
       " 'location:city': 116899,\n",
       " 'location:continent': 752677,\n",
       " 'location:region': 425660,\n",
       " 'mood': 209363,\n",
       " 'mood:activity': 633372,\n",
       " 'mood:celebration': 119768,\n",
       " 'mood:day': 63840,\n",
       " 'mood:day_moment': 71506,\n",
       " 'mood:emotion': 1762977,\n",
       " 'mood:moment': 29188,\n",
       " 'mood:season': 31285,\n",
       " 'mood:situation': 327847,\n",
       " 'mood:weather': 2813,\n",
       " 'movie:genre': 6700,\n",
       " 'musical_form': 10442,\n",
       " 'period': 19329,\n",
       " 'record_type': 125405,\n",
       " 'role': 39231,\n",
       " 'singer_type': 224656}"
      ]
     },
     "execution_count": 38,
     "metadata": {},
     "output_type": "execute_result"
    }
   ],
   "source": [
    "total_num_features_on_dzr_metadata"
   ]
  },
  {
   "cell_type": "code",
   "execution_count": 39,
   "metadata": {},
   "outputs": [
    {
     "data": {
      "text/plain": [
       "{'audience': 88113,\n",
       " 'audio_content': 85757,\n",
       " 'belief': 115972,\n",
       " 'category': 1745150,\n",
       " 'decade': 3598600,\n",
       " 'formation': 171,\n",
       " 'genre': 3272354,\n",
       " 'influence': 15815,\n",
       " 'instrument': 2053880,\n",
       " 'lang': 3399127,\n",
       " 'location': 781254,\n",
       " 'location:city': 116899,\n",
       " 'location:continent': 752589,\n",
       " 'location:region': 423608,\n",
       " 'mood': 189547,\n",
       " 'mood:activity': 507979,\n",
       " 'mood:celebration': 119215,\n",
       " 'mood:day': 12768,\n",
       " 'mood:day_moment': 71506,\n",
       " 'mood:emotion': 1001879,\n",
       " 'mood:moment': 29188,\n",
       " 'mood:season': 31285,\n",
       " 'mood:situation': 322101,\n",
       " 'mood:weather': 2813,\n",
       " 'movie:genre': 6698,\n",
       " 'musical_form': 9024,\n",
       " 'period': 19322,\n",
       " 'record_type': 125267,\n",
       " 'role': 39231,\n",
       " 'singer_type': 212325}"
      ]
     },
     "execution_count": 39,
     "metadata": {},
     "output_type": "execute_result"
    }
   ],
   "source": [
    "num_tracks_with_each_dzr_metadata"
   ]
  },
  {
   "cell_type": "code",
   "execution_count": null,
   "metadata": {},
   "outputs": [],
   "source": []
  }
 ],
 "metadata": {
  "kernelspec": {
   "display_name": "Python 3",
   "language": "python",
   "name": "python3"
  },
  "language_info": {
   "codemirror_mode": {
    "name": "ipython",
    "version": 3
   },
   "file_extension": ".py",
   "mimetype": "text/x-python",
   "name": "python",
   "nbconvert_exporter": "python",
   "pygments_lexer": "ipython3",
   "version": "3.5.2"
  }
 },
 "nbformat": 4,
 "nbformat_minor": 2
}
