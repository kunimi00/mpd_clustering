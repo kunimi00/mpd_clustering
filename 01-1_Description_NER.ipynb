{
 "cells": [
  {
   "cell_type": "code",
   "execution_count": 1,
   "metadata": {},
   "outputs": [],
   "source": [
    "import numpy as np\n",
    "import os\n",
    "import pickle\n",
    "import string\n",
    "\n",
    "import nltk\n",
    "from nltk.tokenize import word_tokenize\n",
    "from nltk.tag import pos_tag\n",
    "from nltk.chunk import ne_chunk"
   ]
  },
  {
   "cell_type": "code",
   "execution_count": 2,
   "metadata": {},
   "outputs": [],
   "source": [
    "from nltk.chunk import conlltags2tree, tree2conlltags"
   ]
  },
  {
   "cell_type": "code",
   "execution_count": 3,
   "metadata": {},
   "outputs": [],
   "source": [
    "import spacy\n",
    "from spacy import displacy\n",
    "from collections import Counter\n",
    "import en_core_web_sm, en_core_web_lg\n"
   ]
  },
  {
   "cell_type": "code",
   "execution_count": 4,
   "metadata": {},
   "outputs": [],
   "source": [
    "from nltk.corpus import wordnet as wn"
   ]
  },
  {
   "cell_type": "code",
   "execution_count": 5,
   "metadata": {},
   "outputs": [],
   "source": [
    "from bs4 import BeautifulSoup\n",
    "import requests\n",
    "import re"
   ]
  },
  {
   "cell_type": "code",
   "execution_count": 6,
   "metadata": {},
   "outputs": [],
   "source": [
    "nlp = en_core_web_lg.load()"
   ]
  },
  {
   "cell_type": "code",
   "execution_count": 6,
   "metadata": {},
   "outputs": [],
   "source": [
    "with open('./unique_mpd_pl_title_clean_set.txt', 'r') as f:\n",
    "    unique_mpd_pl_title_clean_list = f.readlines() \n",
    "\n",
    "with open('./descriptions_list.txt', 'r') as f:\n",
    "    descriptions_list = f.readlines() \n"
   ]
  },
  {
   "cell_type": "code",
   "execution_count": 9,
   "metadata": {},
   "outputs": [
    {
     "name": "stderr",
     "output_type": "stream",
     "text": [
      "[nltk_data] Downloading package averaged_perceptron_tagger to\n",
      "[nltk_data]     /home/kaka/nltk_data...\n",
      "[nltk_data]   Unzipping taggers/averaged_perceptron_tagger.zip.\n"
     ]
    },
    {
     "data": {
      "text/plain": [
       "True"
      ]
     },
     "execution_count": 9,
     "metadata": {},
     "output_type": "execute_result"
    }
   ],
   "source": [
    "# nltk.download('averaged_perceptron_tagger')\n",
    "# nltk.download('maxent_ne_chunker')\n",
    "# nltk.download('words')"
   ]
  },
  {
   "cell_type": "code",
   "execution_count": 7,
   "metadata": {},
   "outputs": [
    {
     "data": {
      "text/plain": [
       "(91584, 18761)"
      ]
     },
     "execution_count": 7,
     "metadata": {},
     "output_type": "execute_result"
    }
   ],
   "source": [
    "len(unique_mpd_pl_title_clean_list), len(descriptions_list)"
   ]
  },
  {
   "cell_type": "code",
   "execution_count": 8,
   "metadata": {},
   "outputs": [],
   "source": [
    "sentence = descriptions_list[1000]\n",
    "ne_tree = ne_chunk(pos_tag(word_tokenize(sentence)))"
   ]
  },
  {
   "cell_type": "code",
   "execution_count": 9,
   "metadata": {},
   "outputs": [
    {
     "name": "stdout",
     "output_type": "stream",
     "text": [
      "(S\n",
      "  (GPE Finn/NNP)\n",
      "  and/CC\n",
      "  (PERSON Ben/NNP)\n",
      "  like/IN\n",
      "  this/DT\n",
      "  you/PRP\n",
      "  may/MD\n",
      "  not/RB\n",
      "  ./.\n",
      "  There/EX\n",
      "  you/PRP\n",
      "  go/VBP\n",
      "  ./.\n",
      "  Have/VBP\n",
      "  fun/NN\n",
      "  ./.\n",
      "  Follow/IN\n",
      "  me/PRP\n",
      "  please/NN\n",
      "  ./.)\n"
     ]
    }
   ],
   "source": [
    "print(ne_tree)"
   ]
  },
  {
   "cell_type": "code",
   "execution_count": 10,
   "metadata": {},
   "outputs": [],
   "source": [
    "def preprocess(sent):\n",
    "    sent = nltk.word_tokenize(sent)\n",
    "    sent = nltk.pos_tag(sent)\n",
    "    return sent"
   ]
  },
  {
   "cell_type": "code",
   "execution_count": 12,
   "metadata": {},
   "outputs": [],
   "source": [
    "iob_tagged = tree2conlltags(ne_tree)"
   ]
  },
  {
   "cell_type": "code",
   "execution_count": 131,
   "metadata": {},
   "outputs": [
    {
     "name": "stdout",
     "output_type": "stream",
     "text": [
      "[('Finn', 'NNP', 'B-GPE'), ('and', 'CC', 'O'), ('Ben', 'NNP', 'B-PERSON'), ('like', 'IN', 'O'), ('this', 'DT', 'O'), ('you', 'PRP', 'O'), ('may', 'MD', 'O'), ('not', 'RB', 'O'), ('.', '.', 'O'), ('There', 'EX', 'O'), ('you', 'PRP', 'O'), ('go', 'VBP', 'O'), ('.', '.', 'O'), ('Have', 'VBP', 'O'), ('fun', 'NN', 'O'), ('.', '.', 'O'), ('Follow', 'IN', 'O'), ('me', 'PRP', 'O'), ('please', 'NN', 'O'), ('.', '.', 'O')]\n"
     ]
    }
   ],
   "source": [
    "print(tree2conlltags(ne_chunk(pos_tag(word_tokenize(sentence)))))"
   ]
  },
  {
   "cell_type": "code",
   "execution_count": 24,
   "metadata": {},
   "outputs": [
    {
     "data": {
      "text/html": [
       "<svg xmlns=\"http://www.w3.org/2000/svg\" xmlns:xlink=\"http://www.w3.org/1999/xlink\" xml:lang=\"en\" id=\"6bfa098b96f648eda0066a538edea3b1-0\" class=\"displacy\" width=\"1410\" height=\"257.0\" direction=\"ltr\" style=\"max-width: none; height: 257.0px; color: #000000; background: #ffffff; font-family: Arial; direction: ltr\">\n",
       "<text class=\"displacy-token\" fill=\"currentColor\" text-anchor=\"middle\" y=\"167.0\">\n",
       "    <tspan class=\"displacy-word\" fill=\"currentColor\" x=\"50\">Finn</tspan>\n",
       "    <tspan class=\"displacy-tag\" dy=\"2em\" fill=\"currentColor\" x=\"50\">PROPN</tspan>\n",
       "</text>\n",
       "\n",
       "<text class=\"displacy-token\" fill=\"currentColor\" text-anchor=\"middle\" y=\"167.0\">\n",
       "    <tspan class=\"displacy-word\" fill=\"currentColor\" x=\"130\">and</tspan>\n",
       "    <tspan class=\"displacy-tag\" dy=\"2em\" fill=\"currentColor\" x=\"130\">CCONJ</tspan>\n",
       "</text>\n",
       "\n",
       "<text class=\"displacy-token\" fill=\"currentColor\" text-anchor=\"middle\" y=\"167.0\">\n",
       "    <tspan class=\"displacy-word\" fill=\"currentColor\" x=\"210\">Ben</tspan>\n",
       "    <tspan class=\"displacy-tag\" dy=\"2em\" fill=\"currentColor\" x=\"210\">PROPN</tspan>\n",
       "</text>\n",
       "\n",
       "<text class=\"displacy-token\" fill=\"currentColor\" text-anchor=\"middle\" y=\"167.0\">\n",
       "    <tspan class=\"displacy-word\" fill=\"currentColor\" x=\"290\">like</tspan>\n",
       "    <tspan class=\"displacy-tag\" dy=\"2em\" fill=\"currentColor\" x=\"290\">ADP</tspan>\n",
       "</text>\n",
       "\n",
       "<text class=\"displacy-token\" fill=\"currentColor\" text-anchor=\"middle\" y=\"167.0\">\n",
       "    <tspan class=\"displacy-word\" fill=\"currentColor\" x=\"370\">this</tspan>\n",
       "    <tspan class=\"displacy-tag\" dy=\"2em\" fill=\"currentColor\" x=\"370\">DET</tspan>\n",
       "</text>\n",
       "\n",
       "<text class=\"displacy-token\" fill=\"currentColor\" text-anchor=\"middle\" y=\"167.0\">\n",
       "    <tspan class=\"displacy-word\" fill=\"currentColor\" x=\"450\">you</tspan>\n",
       "    <tspan class=\"displacy-tag\" dy=\"2em\" fill=\"currentColor\" x=\"450\">PRON</tspan>\n",
       "</text>\n",
       "\n",
       "<text class=\"displacy-token\" fill=\"currentColor\" text-anchor=\"middle\" y=\"167.0\">\n",
       "    <tspan class=\"displacy-word\" fill=\"currentColor\" x=\"530\">may</tspan>\n",
       "    <tspan class=\"displacy-tag\" dy=\"2em\" fill=\"currentColor\" x=\"530\">VERB</tspan>\n",
       "</text>\n",
       "\n",
       "<text class=\"displacy-token\" fill=\"currentColor\" text-anchor=\"middle\" y=\"167.0\">\n",
       "    <tspan class=\"displacy-word\" fill=\"currentColor\" x=\"610\">not.</tspan>\n",
       "    <tspan class=\"displacy-tag\" dy=\"2em\" fill=\"currentColor\" x=\"610\">ADV</tspan>\n",
       "</text>\n",
       "\n",
       "<text class=\"displacy-token\" fill=\"currentColor\" text-anchor=\"middle\" y=\"167.0\">\n",
       "    <tspan class=\"displacy-word\" fill=\"currentColor\" x=\"690\">There</tspan>\n",
       "    <tspan class=\"displacy-tag\" dy=\"2em\" fill=\"currentColor\" x=\"690\">ADV</tspan>\n",
       "</text>\n",
       "\n",
       "<text class=\"displacy-token\" fill=\"currentColor\" text-anchor=\"middle\" y=\"167.0\">\n",
       "    <tspan class=\"displacy-word\" fill=\"currentColor\" x=\"770\">you</tspan>\n",
       "    <tspan class=\"displacy-tag\" dy=\"2em\" fill=\"currentColor\" x=\"770\">PRON</tspan>\n",
       "</text>\n",
       "\n",
       "<text class=\"displacy-token\" fill=\"currentColor\" text-anchor=\"middle\" y=\"167.0\">\n",
       "    <tspan class=\"displacy-word\" fill=\"currentColor\" x=\"850\">go.</tspan>\n",
       "    <tspan class=\"displacy-tag\" dy=\"2em\" fill=\"currentColor\" x=\"850\">VERB</tspan>\n",
       "</text>\n",
       "\n",
       "<text class=\"displacy-token\" fill=\"currentColor\" text-anchor=\"middle\" y=\"167.0\">\n",
       "    <tspan class=\"displacy-word\" fill=\"currentColor\" x=\"930\">Have</tspan>\n",
       "    <tspan class=\"displacy-tag\" dy=\"2em\" fill=\"currentColor\" x=\"930\">VERB</tspan>\n",
       "</text>\n",
       "\n",
       "<text class=\"displacy-token\" fill=\"currentColor\" text-anchor=\"middle\" y=\"167.0\">\n",
       "    <tspan class=\"displacy-word\" fill=\"currentColor\" x=\"1010\">fun.</tspan>\n",
       "    <tspan class=\"displacy-tag\" dy=\"2em\" fill=\"currentColor\" x=\"1010\">NOUN</tspan>\n",
       "</text>\n",
       "\n",
       "<text class=\"displacy-token\" fill=\"currentColor\" text-anchor=\"middle\" y=\"167.0\">\n",
       "    <tspan class=\"displacy-word\" fill=\"currentColor\" x=\"1090\">Follow</tspan>\n",
       "    <tspan class=\"displacy-tag\" dy=\"2em\" fill=\"currentColor\" x=\"1090\">VERB</tspan>\n",
       "</text>\n",
       "\n",
       "<text class=\"displacy-token\" fill=\"currentColor\" text-anchor=\"middle\" y=\"167.0\">\n",
       "    <tspan class=\"displacy-word\" fill=\"currentColor\" x=\"1170\">me</tspan>\n",
       "    <tspan class=\"displacy-tag\" dy=\"2em\" fill=\"currentColor\" x=\"1170\">PRON</tspan>\n",
       "</text>\n",
       "\n",
       "<text class=\"displacy-token\" fill=\"currentColor\" text-anchor=\"middle\" y=\"167.0\">\n",
       "    <tspan class=\"displacy-word\" fill=\"currentColor\" x=\"1250\">please.</tspan>\n",
       "    <tspan class=\"displacy-tag\" dy=\"2em\" fill=\"currentColor\" x=\"1250\">INTJ</tspan>\n",
       "</text>\n",
       "\n",
       "<text class=\"displacy-token\" fill=\"currentColor\" text-anchor=\"middle\" y=\"167.0\">\n",
       "    <tspan class=\"displacy-word\" fill=\"currentColor\" x=\"1330\">\n",
       "</tspan>\n",
       "    <tspan class=\"displacy-tag\" dy=\"2em\" fill=\"currentColor\" x=\"1330\">SPACE</tspan>\n",
       "</text>\n",
       "\n",
       "<g class=\"displacy-arrow\">\n",
       "    <path class=\"displacy-arc\" id=\"arrow-6bfa098b96f648eda0066a538edea3b1-0-0\" stroke-width=\"2px\" d=\"M70,122.0 C70,82.0 120.0,82.0 120.0,122.0\" fill=\"none\" stroke=\"currentColor\"/>\n",
       "    <text dy=\"1.25em\" style=\"font-size: 0.8em; letter-spacing: 1px\">\n",
       "        <textPath xlink:href=\"#arrow-6bfa098b96f648eda0066a538edea3b1-0-0\" class=\"displacy-label\" startOffset=\"50%\" side=\"left\" fill=\"currentColor\" text-anchor=\"middle\">cc</textPath>\n",
       "    </text>\n",
       "    <path class=\"displacy-arrowhead\" d=\"M120.0,124.0 L128.0,112.0 112.0,112.0\" fill=\"currentColor\"/>\n",
       "</g>\n",
       "\n",
       "<g class=\"displacy-arrow\">\n",
       "    <path class=\"displacy-arc\" id=\"arrow-6bfa098b96f648eda0066a538edea3b1-0-1\" stroke-width=\"2px\" d=\"M70,122.0 C70,42.0 205.0,42.0 205.0,122.0\" fill=\"none\" stroke=\"currentColor\"/>\n",
       "    <text dy=\"1.25em\" style=\"font-size: 0.8em; letter-spacing: 1px\">\n",
       "        <textPath xlink:href=\"#arrow-6bfa098b96f648eda0066a538edea3b1-0-1\" class=\"displacy-label\" startOffset=\"50%\" side=\"left\" fill=\"currentColor\" text-anchor=\"middle\">conj</textPath>\n",
       "    </text>\n",
       "    <path class=\"displacy-arrowhead\" d=\"M205.0,124.0 L213.0,112.0 197.0,112.0\" fill=\"currentColor\"/>\n",
       "</g>\n",
       "\n",
       "<g class=\"displacy-arrow\">\n",
       "    <path class=\"displacy-arc\" id=\"arrow-6bfa098b96f648eda0066a538edea3b1-0-2\" stroke-width=\"2px\" d=\"M70,122.0 C70,2.0 290.0,2.0 290.0,122.0\" fill=\"none\" stroke=\"currentColor\"/>\n",
       "    <text dy=\"1.25em\" style=\"font-size: 0.8em; letter-spacing: 1px\">\n",
       "        <textPath xlink:href=\"#arrow-6bfa098b96f648eda0066a538edea3b1-0-2\" class=\"displacy-label\" startOffset=\"50%\" side=\"left\" fill=\"currentColor\" text-anchor=\"middle\">prep</textPath>\n",
       "    </text>\n",
       "    <path class=\"displacy-arrowhead\" d=\"M290.0,124.0 L298.0,112.0 282.0,112.0\" fill=\"currentColor\"/>\n",
       "</g>\n",
       "\n",
       "<g class=\"displacy-arrow\">\n",
       "    <path class=\"displacy-arc\" id=\"arrow-6bfa098b96f648eda0066a538edea3b1-0-3\" stroke-width=\"2px\" d=\"M310,122.0 C310,82.0 360.0,82.0 360.0,122.0\" fill=\"none\" stroke=\"currentColor\"/>\n",
       "    <text dy=\"1.25em\" style=\"font-size: 0.8em; letter-spacing: 1px\">\n",
       "        <textPath xlink:href=\"#arrow-6bfa098b96f648eda0066a538edea3b1-0-3\" class=\"displacy-label\" startOffset=\"50%\" side=\"left\" fill=\"currentColor\" text-anchor=\"middle\">pobj</textPath>\n",
       "    </text>\n",
       "    <path class=\"displacy-arrowhead\" d=\"M360.0,124.0 L368.0,112.0 352.0,112.0\" fill=\"currentColor\"/>\n",
       "</g>\n",
       "\n",
       "<g class=\"displacy-arrow\">\n",
       "    <path class=\"displacy-arc\" id=\"arrow-6bfa098b96f648eda0066a538edea3b1-0-4\" stroke-width=\"2px\" d=\"M470,122.0 C470,82.0 520.0,82.0 520.0,122.0\" fill=\"none\" stroke=\"currentColor\"/>\n",
       "    <text dy=\"1.25em\" style=\"font-size: 0.8em; letter-spacing: 1px\">\n",
       "        <textPath xlink:href=\"#arrow-6bfa098b96f648eda0066a538edea3b1-0-4\" class=\"displacy-label\" startOffset=\"50%\" side=\"left\" fill=\"currentColor\" text-anchor=\"middle\">nsubj</textPath>\n",
       "    </text>\n",
       "    <path class=\"displacy-arrowhead\" d=\"M470,124.0 L462,112.0 478,112.0\" fill=\"currentColor\"/>\n",
       "</g>\n",
       "\n",
       "<g class=\"displacy-arrow\">\n",
       "    <path class=\"displacy-arc\" id=\"arrow-6bfa098b96f648eda0066a538edea3b1-0-5\" stroke-width=\"2px\" d=\"M550,122.0 C550,82.0 600.0,82.0 600.0,122.0\" fill=\"none\" stroke=\"currentColor\"/>\n",
       "    <text dy=\"1.25em\" style=\"font-size: 0.8em; letter-spacing: 1px\">\n",
       "        <textPath xlink:href=\"#arrow-6bfa098b96f648eda0066a538edea3b1-0-5\" class=\"displacy-label\" startOffset=\"50%\" side=\"left\" fill=\"currentColor\" text-anchor=\"middle\">neg</textPath>\n",
       "    </text>\n",
       "    <path class=\"displacy-arrowhead\" d=\"M600.0,124.0 L608.0,112.0 592.0,112.0\" fill=\"currentColor\"/>\n",
       "</g>\n",
       "\n",
       "<g class=\"displacy-arrow\">\n",
       "    <path class=\"displacy-arc\" id=\"arrow-6bfa098b96f648eda0066a538edea3b1-0-6\" stroke-width=\"2px\" d=\"M710,122.0 C710,42.0 845.0,42.0 845.0,122.0\" fill=\"none\" stroke=\"currentColor\"/>\n",
       "    <text dy=\"1.25em\" style=\"font-size: 0.8em; letter-spacing: 1px\">\n",
       "        <textPath xlink:href=\"#arrow-6bfa098b96f648eda0066a538edea3b1-0-6\" class=\"displacy-label\" startOffset=\"50%\" side=\"left\" fill=\"currentColor\" text-anchor=\"middle\">advmod</textPath>\n",
       "    </text>\n",
       "    <path class=\"displacy-arrowhead\" d=\"M710,124.0 L702,112.0 718,112.0\" fill=\"currentColor\"/>\n",
       "</g>\n",
       "\n",
       "<g class=\"displacy-arrow\">\n",
       "    <path class=\"displacy-arc\" id=\"arrow-6bfa098b96f648eda0066a538edea3b1-0-7\" stroke-width=\"2px\" d=\"M790,122.0 C790,82.0 840.0,82.0 840.0,122.0\" fill=\"none\" stroke=\"currentColor\"/>\n",
       "    <text dy=\"1.25em\" style=\"font-size: 0.8em; letter-spacing: 1px\">\n",
       "        <textPath xlink:href=\"#arrow-6bfa098b96f648eda0066a538edea3b1-0-7\" class=\"displacy-label\" startOffset=\"50%\" side=\"left\" fill=\"currentColor\" text-anchor=\"middle\">nsubj</textPath>\n",
       "    </text>\n",
       "    <path class=\"displacy-arrowhead\" d=\"M790,124.0 L782,112.0 798,112.0\" fill=\"currentColor\"/>\n",
       "</g>\n",
       "\n",
       "<g class=\"displacy-arrow\">\n",
       "    <path class=\"displacy-arc\" id=\"arrow-6bfa098b96f648eda0066a538edea3b1-0-8\" stroke-width=\"2px\" d=\"M950,122.0 C950,82.0 1000.0,82.0 1000.0,122.0\" fill=\"none\" stroke=\"currentColor\"/>\n",
       "    <text dy=\"1.25em\" style=\"font-size: 0.8em; letter-spacing: 1px\">\n",
       "        <textPath xlink:href=\"#arrow-6bfa098b96f648eda0066a538edea3b1-0-8\" class=\"displacy-label\" startOffset=\"50%\" side=\"left\" fill=\"currentColor\" text-anchor=\"middle\">dobj</textPath>\n",
       "    </text>\n",
       "    <path class=\"displacy-arrowhead\" d=\"M1000.0,124.0 L1008.0,112.0 992.0,112.0\" fill=\"currentColor\"/>\n",
       "</g>\n",
       "\n",
       "<g class=\"displacy-arrow\">\n",
       "    <path class=\"displacy-arc\" id=\"arrow-6bfa098b96f648eda0066a538edea3b1-0-9\" stroke-width=\"2px\" d=\"M1110,122.0 C1110,82.0 1160.0,82.0 1160.0,122.0\" fill=\"none\" stroke=\"currentColor\"/>\n",
       "    <text dy=\"1.25em\" style=\"font-size: 0.8em; letter-spacing: 1px\">\n",
       "        <textPath xlink:href=\"#arrow-6bfa098b96f648eda0066a538edea3b1-0-9\" class=\"displacy-label\" startOffset=\"50%\" side=\"left\" fill=\"currentColor\" text-anchor=\"middle\">dobj</textPath>\n",
       "    </text>\n",
       "    <path class=\"displacy-arrowhead\" d=\"M1160.0,124.0 L1168.0,112.0 1152.0,112.0\" fill=\"currentColor\"/>\n",
       "</g>\n",
       "\n",
       "<g class=\"displacy-arrow\">\n",
       "    <path class=\"displacy-arc\" id=\"arrow-6bfa098b96f648eda0066a538edea3b1-0-10\" stroke-width=\"2px\" d=\"M1110,122.0 C1110,42.0 1245.0,42.0 1245.0,122.0\" fill=\"none\" stroke=\"currentColor\"/>\n",
       "    <text dy=\"1.25em\" style=\"font-size: 0.8em; letter-spacing: 1px\">\n",
       "        <textPath xlink:href=\"#arrow-6bfa098b96f648eda0066a538edea3b1-0-10\" class=\"displacy-label\" startOffset=\"50%\" side=\"left\" fill=\"currentColor\" text-anchor=\"middle\">intj</textPath>\n",
       "    </text>\n",
       "    <path class=\"displacy-arrowhead\" d=\"M1245.0,124.0 L1253.0,112.0 1237.0,112.0\" fill=\"currentColor\"/>\n",
       "</g>\n",
       "\n",
       "<g class=\"displacy-arrow\">\n",
       "    <path class=\"displacy-arc\" id=\"arrow-6bfa098b96f648eda0066a538edea3b1-0-11\" stroke-width=\"2px\" d=\"M1270,122.0 C1270,82.0 1320.0,82.0 1320.0,122.0\" fill=\"none\" stroke=\"currentColor\"/>\n",
       "    <text dy=\"1.25em\" style=\"font-size: 0.8em; letter-spacing: 1px\">\n",
       "        <textPath xlink:href=\"#arrow-6bfa098b96f648eda0066a538edea3b1-0-11\" class=\"displacy-label\" startOffset=\"50%\" side=\"left\" fill=\"currentColor\" text-anchor=\"middle\"></textPath>\n",
       "    </text>\n",
       "    <path class=\"displacy-arrowhead\" d=\"M1320.0,124.0 L1328.0,112.0 1312.0,112.0\" fill=\"currentColor\"/>\n",
       "</g>\n",
       "</svg>"
      ],
      "text/plain": [
       "<IPython.core.display.HTML object>"
      ]
     },
     "metadata": {},
     "output_type": "display_data"
    }
   ],
   "source": [
    "displacy.render(nlp(str(sentence)), style='dep', jupyter = True, options = {'distance': 80})"
   ]
  },
  {
   "cell_type": "code",
   "execution_count": 25,
   "metadata": {},
   "outputs": [
    {
     "data": {
      "text/html": [
       "<div class=\"entities\" style=\"line-height: 2.5; direction: ltr\">\n",
       "<mark class=\"entity\" style=\"background: #aa9cfc; padding: 0.45em 0.6em; margin: 0 0.25em; line-height: 1; border-radius: 0.35em; box-decoration-break: clone; -webkit-box-decoration-break: clone\">\n",
       "    Finn\n",
       "    <span style=\"font-size: 0.8em; font-weight: bold; line-height: 1; border-radius: 0.35em; text-transform: uppercase; vertical-align: middle; margin-left: 0.5rem\">PERSON</span>\n",
       "</mark>\n",
       " and \n",
       "<mark class=\"entity\" style=\"background: #aa9cfc; padding: 0.45em 0.6em; margin: 0 0.25em; line-height: 1; border-radius: 0.35em; box-decoration-break: clone; -webkit-box-decoration-break: clone\">\n",
       "    Ben\n",
       "    <span style=\"font-size: 0.8em; font-weight: bold; line-height: 1; border-radius: 0.35em; text-transform: uppercase; vertical-align: middle; margin-left: 0.5rem\">PERSON</span>\n",
       "</mark>\n",
       " like this you may not. There you go. Have fun. Follow me please.\n",
       "</div>"
      ],
      "text/plain": [
       "<IPython.core.display.HTML object>"
      ]
     },
     "metadata": {},
     "output_type": "display_data"
    }
   ],
   "source": [
    "displacy.render(nlp(str(sentence)), jupyter=True, style='ent')"
   ]
  },
  {
   "cell_type": "code",
   "execution_count": 138,
   "metadata": {},
   "outputs": [],
   "source": [
    "def remove_punct(text):\n",
    "#     text  = \"\".join([char for char in text if char not in string.punctuation])\n",
    "    text = re.sub('[0-9]+', ' ', text)\n",
    "    text = re.sub('\\W+', ' ', text)\n",
    "    return re.split('\\W+', text) \n",
    "#     return text"
   ]
  },
  {
   "cell_type": "code",
   "execution_count": 139,
   "metadata": {},
   "outputs": [],
   "source": [
    "stopword = nltk.corpus.stopwords.words('english')\n",
    "def remove_stopwords(text):\n",
    "    text = [word for word in text if word not in stopword]\n",
    "    return text"
   ]
  },
  {
   "cell_type": "code",
   "execution_count": 140,
   "metadata": {},
   "outputs": [],
   "source": [
    "ps = nltk.PorterStemmer()\n",
    "def stemming(text):\n",
    "    text = [ps.stem(word) for word in text]\n",
    "    return text"
   ]
  },
  {
   "cell_type": "code",
   "execution_count": 141,
   "metadata": {},
   "outputs": [],
   "source": [
    "wn_lm = nltk.WordNetLemmatizer()\n",
    "def lemmatizer(text):\n",
    "    text = [wn_lm.lemmatize(word) for word in text]\n",
    "    return text"
   ]
  },
  {
   "cell_type": "code",
   "execution_count": 142,
   "metadata": {},
   "outputs": [],
   "source": [
    "def clean_text(text):\n",
    "    return \" \".join(lemmatizer(remove_stopwords(remove_punct(text))))"
   ]
  },
  {
   "cell_type": "code",
   "execution_count": 143,
   "metadata": {},
   "outputs": [
    {
     "data": {
      "text/plain": [
       "['soccer', 'workout']"
      ]
     },
     "execution_count": 143,
     "metadata": {},
     "output_type": "execute_result"
    }
   ],
   "source": [
    "remove_punct(\"soccer/workout\")"
   ]
  },
  {
   "cell_type": "code",
   "execution_count": 145,
   "metadata": {
    "scrolled": false
   },
   "outputs": [
    {
     "name": "stdout",
     "output_type": "stream",
     "text": [
      "\n",
      "\n",
      "For those good days.....\n",
      "\n",
      "For good day \n"
     ]
    },
    {
     "data": {
      "text/html": [
       "<div class=\"entities\" style=\"line-height: 2.5; direction: ltr\">For \n",
       "<mark class=\"entity\" style=\"background: #bfe1d9; padding: 0.45em 0.6em; margin: 0 0.25em; line-height: 1; border-radius: 0.35em; box-decoration-break: clone; -webkit-box-decoration-break: clone\">\n",
       "    good day\n",
       "    <span style=\"font-size: 0.8em; font-weight: bold; line-height: 1; border-radius: 0.35em; text-transform: uppercase; vertical-align: middle; margin-left: 0.5rem\">DATE</span>\n",
       "</mark>\n",
       " </div>"
      ],
      "text/plain": [
       "<IPython.core.display.HTML object>"
      ]
     },
     "metadata": {},
     "output_type": "display_data"
    },
    {
     "name": "stdout",
     "output_type": "stream",
     "text": [
      "[('For', 'IN', 'O'), ('good', 'JJ', 'O'), ('day', 'NN', 'O')]\n",
      "[Synset('degree_fahrenheit.n.01'), Synset('fluorine.n.01'), Synset('farad.n.01'), Synset('f.n.04')]\n",
      "[Synset('oxygen.n.01'), Synset('o.n.02'), Synset('o.n.03')]\n",
      "[Synset('roentgen.n.01'), Synset('gas_constant.n.01'), Synset('r.n.03'), Synset('radius.n.01')]\n",
      "[]\n",
      "[Synset('gram.n.01'), Synset('guanine.n.01'), Synset('deoxyguanosine_monophosphate.n.01'), Synset('thousand.n.01'), Synset('g.n.05'), Synset('gigabyte.n.01'), Synset('gigabyte.n.02'), Synset('gravitational_constant.n.01'), Synset('g.n.09')]\n",
      "[Synset('oxygen.n.01'), Synset('o.n.02'), Synset('o.n.03')]\n",
      "[Synset('oxygen.n.01'), Synset('o.n.02'), Synset('o.n.03')]\n",
      "[Synset('vitamin_d.n.01'), Synset('five_hundred.n.01'), Synset('d.n.03')]\n",
      "[]\n",
      "[Synset('vitamin_d.n.01'), Synset('five_hundred.n.01'), Synset('d.n.03')]\n",
      "[Synset('angstrom.n.01'), Synset('vitamin_a.n.01'), Synset('deoxyadenosine_monophosphate.n.01'), Synset('adenine.n.01'), Synset('ampere.n.02'), Synset('a.n.06'), Synset('a.n.07')]\n",
      "[Synset('yttrium.n.01'), Synset('y.n.02')]\n",
      "[]\n",
      "\n",
      "\n",
      "Heres to a change of pace, a change of vibe.\n",
      "\n",
      "Heres change pace change vibe \n"
     ]
    },
    {
     "name": "stderr",
     "output_type": "stream",
     "text": [
      "/usr/lib/python3.5/runpy.py:184: UserWarning: [W006] No entities to visualize found in Doc object. If this is surprising to you, make sure the Doc was processed using a model that supports named entity recognition, and check the `doc.ents` property manually if necessary.\n",
      "  \"__main__\", mod_spec)\n"
     ]
    },
    {
     "data": {
      "text/html": [
       "<div class=\"entities\" style=\"line-height: 2.5; direction: ltr\">Heres change pace change vibe </div>"
      ],
      "text/plain": [
       "<IPython.core.display.HTML object>"
      ]
     },
     "metadata": {},
     "output_type": "display_data"
    },
    {
     "name": "stdout",
     "output_type": "stream",
     "text": [
      "[('Heres', 'NNS', 'O'), ('change', 'VBP', 'O'), ('pace', 'NN', 'O'), ('change', 'NN', 'O'), ('vibe', 'NN', 'O')]\n",
      "[Synset('hydrogen.n.01'), Synset('henry.n.01'), Synset('planck's_constant.n.01'), Synset('h.n.04'), Synset('heat_content.n.01')]\n",
      "[Synset('vitamin_e.n.01'), Synset('einsteinium.n.01'), Synset('east.n.01'), Synset('e.n.04'), Synset('e.n.05')]\n",
      "[Synset('roentgen.n.01'), Synset('gas_constant.n.01'), Synset('r.n.03'), Synset('radius.n.01')]\n",
      "[Synset('vitamin_e.n.01'), Synset('einsteinium.n.01'), Synset('east.n.01'), Synset('e.n.04'), Synset('e.n.05')]\n",
      "[Synset('second.n.01'), Synset('sulfur.n.01'), Synset('south.n.03'), Synset('mho.n.01'), Synset('s.n.05'), Synset('randomness.n.01')]\n",
      "[]\n",
      "[Synset('degree_centigrade.n.01'), Synset('speed_of_light.n.01'), Synset('vitamin_c.n.01'), Synset('deoxycytidine_monophosphate.n.01'), Synset('cytosine.n.01'), Synset('carbon.n.01'), Synset('hundred.n.01'), Synset('coulomb.n.01'), Synset('c.n.09'), Synset('c.n.10'), Synset('c.n.11'), Synset('coke.n.03')]\n",
      "[Synset('hydrogen.n.01'), Synset('henry.n.01'), Synset('planck's_constant.n.01'), Synset('h.n.04'), Synset('heat_content.n.01')]\n",
      "[Synset('angstrom.n.01'), Synset('vitamin_a.n.01'), Synset('deoxyadenosine_monophosphate.n.01'), Synset('adenine.n.01'), Synset('ampere.n.02'), Synset('a.n.06'), Synset('a.n.07')]\n",
      "[Synset('nitrogen.n.01'), Synset('north.n.03'), Synset('newton.n.02'), Synset('normality.n.02'), Synset('n.n.05')]\n",
      "[Synset('gram.n.01'), Synset('guanine.n.01'), Synset('deoxyguanosine_monophosphate.n.01'), Synset('thousand.n.01'), Synset('g.n.05'), Synset('gigabyte.n.01'), Synset('gigabyte.n.02'), Synset('gravitational_constant.n.01'), Synset('g.n.09')]\n",
      "[Synset('vitamin_e.n.01'), Synset('einsteinium.n.01'), Synset('east.n.01'), Synset('e.n.04'), Synset('e.n.05')]\n",
      "[]\n",
      "[Synset('phosphorus.n.01'), Synset('p.n.02')]\n",
      "[Synset('angstrom.n.01'), Synset('vitamin_a.n.01'), Synset('deoxyadenosine_monophosphate.n.01'), Synset('adenine.n.01'), Synset('ampere.n.02'), Synset('a.n.06'), Synset('a.n.07')]\n",
      "[Synset('degree_centigrade.n.01'), Synset('speed_of_light.n.01'), Synset('vitamin_c.n.01'), Synset('deoxycytidine_monophosphate.n.01'), Synset('cytosine.n.01'), Synset('carbon.n.01'), Synset('hundred.n.01'), Synset('coulomb.n.01'), Synset('c.n.09'), Synset('c.n.10'), Synset('c.n.11'), Synset('coke.n.03')]\n",
      "[Synset('vitamin_e.n.01'), Synset('einsteinium.n.01'), Synset('east.n.01'), Synset('e.n.04'), Synset('e.n.05')]\n",
      "[]\n",
      "[Synset('degree_centigrade.n.01'), Synset('speed_of_light.n.01'), Synset('vitamin_c.n.01'), Synset('deoxycytidine_monophosphate.n.01'), Synset('cytosine.n.01'), Synset('carbon.n.01'), Synset('hundred.n.01'), Synset('coulomb.n.01'), Synset('c.n.09'), Synset('c.n.10'), Synset('c.n.11'), Synset('coke.n.03')]\n",
      "[Synset('hydrogen.n.01'), Synset('henry.n.01'), Synset('planck's_constant.n.01'), Synset('h.n.04'), Synset('heat_content.n.01')]\n",
      "[Synset('angstrom.n.01'), Synset('vitamin_a.n.01'), Synset('deoxyadenosine_monophosphate.n.01'), Synset('adenine.n.01'), Synset('ampere.n.02'), Synset('a.n.06'), Synset('a.n.07')]\n",
      "[Synset('nitrogen.n.01'), Synset('north.n.03'), Synset('newton.n.02'), Synset('normality.n.02'), Synset('n.n.05')]\n",
      "[Synset('gram.n.01'), Synset('guanine.n.01'), Synset('deoxyguanosine_monophosphate.n.01'), Synset('thousand.n.01'), Synset('g.n.05'), Synset('gigabyte.n.01'), Synset('gigabyte.n.02'), Synset('gravitational_constant.n.01'), Synset('g.n.09')]\n",
      "[Synset('vitamin_e.n.01'), Synset('einsteinium.n.01'), Synset('east.n.01'), Synset('e.n.04'), Synset('e.n.05')]\n",
      "[]\n",
      "[Synset('volt.n.01'), Synset('vanadium.n.01'), Synset('five.n.01'), Synset('v.n.04')]\n",
      "[Synset('iodine.n.01'), Synset('one.n.01'), Synset('i.n.03')]\n",
      "[Synset('bacillus.n.01'), Synset('b-complex_vitamin.n.01'), Synset('boron.n.01'), Synset('bel.n.01'), Synset('barn.n.02'), Synset('b.n.06'), Synset('b.n.07')]\n",
      "[Synset('vitamin_e.n.01'), Synset('einsteinium.n.01'), Synset('east.n.01'), Synset('e.n.04'), Synset('e.n.05')]\n",
      "[]\n",
      "\n",
      "\n",
      "For the girl that makes my world go round :)\n",
      "\n",
      "For girl make world go round \n"
     ]
    },
    {
     "name": "stderr",
     "output_type": "stream",
     "text": [
      "/usr/lib/python3.5/runpy.py:184: UserWarning: [W006] No entities to visualize found in Doc object. If this is surprising to you, make sure the Doc was processed using a model that supports named entity recognition, and check the `doc.ents` property manually if necessary.\n",
      "  \"__main__\", mod_spec)\n"
     ]
    },
    {
     "data": {
      "text/html": [
       "<div class=\"entities\" style=\"line-height: 2.5; direction: ltr\">For girl make world go round </div>"
      ],
      "text/plain": [
       "<IPython.core.display.HTML object>"
      ]
     },
     "metadata": {},
     "output_type": "display_data"
    },
    {
     "name": "stdout",
     "output_type": "stream",
     "text": [
      "[('For', 'IN', 'O'), ('girl', 'NNS', 'O'), ('make', 'VBP', 'O'), ('world', 'NN', 'O'), ('go', 'VBP', 'O'), ('round', 'NN', 'O')]\n",
      "[Synset('degree_fahrenheit.n.01'), Synset('fluorine.n.01'), Synset('farad.n.01'), Synset('f.n.04')]\n",
      "[Synset('oxygen.n.01'), Synset('o.n.02'), Synset('o.n.03')]\n",
      "[Synset('roentgen.n.01'), Synset('gas_constant.n.01'), Synset('r.n.03'), Synset('radius.n.01')]\n",
      "[]\n",
      "[Synset('gram.n.01'), Synset('guanine.n.01'), Synset('deoxyguanosine_monophosphate.n.01'), Synset('thousand.n.01'), Synset('g.n.05'), Synset('gigabyte.n.01'), Synset('gigabyte.n.02'), Synset('gravitational_constant.n.01'), Synset('g.n.09')]\n",
      "[Synset('iodine.n.01'), Synset('one.n.01'), Synset('i.n.03')]\n",
      "[Synset('roentgen.n.01'), Synset('gas_constant.n.01'), Synset('r.n.03'), Synset('radius.n.01')]\n",
      "[Synset('liter.n.01'), Synset('fifty.n.01'), Synset('lambert.n.01'), Synset('l.n.04')]\n",
      "[]\n",
      "[Synset('meter.n.01'), Synset('molarity.n.01'), Synset('thousand.n.01'), Synset('megabyte.n.01'), Synset('megabyte.n.02'), Synset('m.n.06')]\n",
      "[Synset('angstrom.n.01'), Synset('vitamin_a.n.01'), Synset('deoxyadenosine_monophosphate.n.01'), Synset('adenine.n.01'), Synset('ampere.n.02'), Synset('a.n.06'), Synset('a.n.07')]\n",
      "[Synset('kelvin.n.01'), Synset('potassium.n.01'), Synset('thousand.n.01'), Synset('kilobyte.n.01'), Synset('kilobyte.n.02'), Synset('k.n.06'), Synset('k.n.07')]\n",
      "[Synset('vitamin_e.n.01'), Synset('einsteinium.n.01'), Synset('east.n.01'), Synset('e.n.04'), Synset('e.n.05')]\n",
      "[]\n",
      "[Synset('tungsten.n.01'), Synset('west.n.02'), Synset('watt.n.01'), Synset('w.n.04')]\n",
      "[Synset('oxygen.n.01'), Synset('o.n.02'), Synset('o.n.03')]\n",
      "[Synset('roentgen.n.01'), Synset('gas_constant.n.01'), Synset('r.n.03'), Synset('radius.n.01')]\n",
      "[Synset('liter.n.01'), Synset('fifty.n.01'), Synset('lambert.n.01'), Synset('l.n.04')]\n",
      "[Synset('vitamin_d.n.01'), Synset('five_hundred.n.01'), Synset('d.n.03')]\n",
      "[]\n",
      "[Synset('gram.n.01'), Synset('guanine.n.01'), Synset('deoxyguanosine_monophosphate.n.01'), Synset('thousand.n.01'), Synset('g.n.05'), Synset('gigabyte.n.01'), Synset('gigabyte.n.02'), Synset('gravitational_constant.n.01'), Synset('g.n.09')]\n",
      "[Synset('oxygen.n.01'), Synset('o.n.02'), Synset('o.n.03')]\n",
      "[]\n",
      "[Synset('roentgen.n.01'), Synset('gas_constant.n.01'), Synset('r.n.03'), Synset('radius.n.01')]\n",
      "[Synset('oxygen.n.01'), Synset('o.n.02'), Synset('o.n.03')]\n",
      "[Synset('uracil.n.01'), Synset('uranium.n.01'), Synset('u.n.03')]\n",
      "[Synset('nitrogen.n.01'), Synset('north.n.03'), Synset('newton.n.02'), Synset('normality.n.02'), Synset('n.n.05')]\n",
      "[Synset('vitamin_d.n.01'), Synset('five_hundred.n.01'), Synset('d.n.03')]\n",
      "[]\n",
      "\n",
      "\n",
      "The all time best collection of songz to listen to on a red velvet couch...\n",
      "\n",
      "The time best collection songz listen red velvet couch \n"
     ]
    },
    {
     "name": "stderr",
     "output_type": "stream",
     "text": [
      "/usr/lib/python3.5/runpy.py:184: UserWarning: [W006] No entities to visualize found in Doc object. If this is surprising to you, make sure the Doc was processed using a model that supports named entity recognition, and check the `doc.ents` property manually if necessary.\n",
      "  \"__main__\", mod_spec)\n"
     ]
    },
    {
     "data": {
      "text/html": [
       "<div class=\"entities\" style=\"line-height: 2.5; direction: ltr\">The time best collection songz listen red velvet couch </div>"
      ],
      "text/plain": [
       "<IPython.core.display.HTML object>"
      ]
     },
     "metadata": {},
     "output_type": "display_data"
    },
    {
     "name": "stdout",
     "output_type": "stream",
     "text": [
      "[('The', 'DT', 'O'), ('time', 'NN', 'O'), ('best', 'JJS', 'O'), ('collection', 'NN', 'O'), ('songz', 'NN', 'O'), ('listen', 'NN', 'O'), ('red', 'JJ', 'O'), ('velvet', 'NN', 'O'), ('couch', 'NN', 'O')]\n",
      "[Synset('thymine.n.01'), Synset('deoxythymidine_monophosphate.n.01'), Synset('metric_ton.n.01'), Synset('t.n.04'), Synset('triiodothyronine.n.01'), Synset('thyroxine.n.01')]\n",
      "[Synset('hydrogen.n.01'), Synset('henry.n.01'), Synset('planck's_constant.n.01'), Synset('h.n.04'), Synset('heat_content.n.01')]\n",
      "[Synset('vitamin_e.n.01'), Synset('einsteinium.n.01'), Synset('east.n.01'), Synset('e.n.04'), Synset('e.n.05')]\n",
      "[]\n",
      "[Synset('thymine.n.01'), Synset('deoxythymidine_monophosphate.n.01'), Synset('metric_ton.n.01'), Synset('t.n.04'), Synset('triiodothyronine.n.01'), Synset('thyroxine.n.01')]\n",
      "[Synset('iodine.n.01'), Synset('one.n.01'), Synset('i.n.03')]\n",
      "[Synset('meter.n.01'), Synset('molarity.n.01'), Synset('thousand.n.01'), Synset('megabyte.n.01'), Synset('megabyte.n.02'), Synset('m.n.06')]\n",
      "[Synset('vitamin_e.n.01'), Synset('einsteinium.n.01'), Synset('east.n.01'), Synset('e.n.04'), Synset('e.n.05')]\n",
      "[]\n",
      "[Synset('bacillus.n.01'), Synset('b-complex_vitamin.n.01'), Synset('boron.n.01'), Synset('bel.n.01'), Synset('barn.n.02'), Synset('b.n.06'), Synset('b.n.07')]\n",
      "[Synset('vitamin_e.n.01'), Synset('einsteinium.n.01'), Synset('east.n.01'), Synset('e.n.04'), Synset('e.n.05')]\n",
      "[Synset('second.n.01'), Synset('sulfur.n.01'), Synset('south.n.03'), Synset('mho.n.01'), Synset('s.n.05'), Synset('randomness.n.01')]\n",
      "[Synset('thymine.n.01'), Synset('deoxythymidine_monophosphate.n.01'), Synset('metric_ton.n.01'), Synset('t.n.04'), Synset('triiodothyronine.n.01'), Synset('thyroxine.n.01')]\n",
      "[]\n",
      "[Synset('degree_centigrade.n.01'), Synset('speed_of_light.n.01'), Synset('vitamin_c.n.01'), Synset('deoxycytidine_monophosphate.n.01'), Synset('cytosine.n.01'), Synset('carbon.n.01'), Synset('hundred.n.01'), Synset('coulomb.n.01'), Synset('c.n.09'), Synset('c.n.10'), Synset('c.n.11'), Synset('coke.n.03')]\n",
      "[Synset('oxygen.n.01'), Synset('o.n.02'), Synset('o.n.03')]\n",
      "[Synset('liter.n.01'), Synset('fifty.n.01'), Synset('lambert.n.01'), Synset('l.n.04')]\n",
      "[Synset('liter.n.01'), Synset('fifty.n.01'), Synset('lambert.n.01'), Synset('l.n.04')]\n",
      "[Synset('vitamin_e.n.01'), Synset('einsteinium.n.01'), Synset('east.n.01'), Synset('e.n.04'), Synset('e.n.05')]\n",
      "[Synset('degree_centigrade.n.01'), Synset('speed_of_light.n.01'), Synset('vitamin_c.n.01'), Synset('deoxycytidine_monophosphate.n.01'), Synset('cytosine.n.01'), Synset('carbon.n.01'), Synset('hundred.n.01'), Synset('coulomb.n.01'), Synset('c.n.09'), Synset('c.n.10'), Synset('c.n.11'), Synset('coke.n.03')]\n",
      "[Synset('thymine.n.01'), Synset('deoxythymidine_monophosphate.n.01'), Synset('metric_ton.n.01'), Synset('t.n.04'), Synset('triiodothyronine.n.01'), Synset('thyroxine.n.01')]\n",
      "[Synset('iodine.n.01'), Synset('one.n.01'), Synset('i.n.03')]\n",
      "[Synset('oxygen.n.01'), Synset('o.n.02'), Synset('o.n.03')]\n",
      "[Synset('nitrogen.n.01'), Synset('north.n.03'), Synset('newton.n.02'), Synset('normality.n.02'), Synset('n.n.05')]\n",
      "[]\n",
      "[Synset('second.n.01'), Synset('sulfur.n.01'), Synset('south.n.03'), Synset('mho.n.01'), Synset('s.n.05'), Synset('randomness.n.01')]\n",
      "[Synset('oxygen.n.01'), Synset('o.n.02'), Synset('o.n.03')]\n",
      "[Synset('nitrogen.n.01'), Synset('north.n.03'), Synset('newton.n.02'), Synset('normality.n.02'), Synset('n.n.05')]\n",
      "[Synset('gram.n.01'), Synset('guanine.n.01'), Synset('deoxyguanosine_monophosphate.n.01'), Synset('thousand.n.01'), Synset('g.n.05'), Synset('gigabyte.n.01'), Synset('gigabyte.n.02'), Synset('gravitational_constant.n.01'), Synset('g.n.09')]\n",
      "[Synset('omega.n.01'), Synset('z.n.02')]\n",
      "[]\n",
      "[Synset('liter.n.01'), Synset('fifty.n.01'), Synset('lambert.n.01'), Synset('l.n.04')]\n",
      "[Synset('iodine.n.01'), Synset('one.n.01'), Synset('i.n.03')]\n",
      "[Synset('second.n.01'), Synset('sulfur.n.01'), Synset('south.n.03'), Synset('mho.n.01'), Synset('s.n.05'), Synset('randomness.n.01')]\n",
      "[Synset('thymine.n.01'), Synset('deoxythymidine_monophosphate.n.01'), Synset('metric_ton.n.01'), Synset('t.n.04'), Synset('triiodothyronine.n.01'), Synset('thyroxine.n.01')]\n",
      "[Synset('vitamin_e.n.01'), Synset('einsteinium.n.01'), Synset('east.n.01'), Synset('e.n.04'), Synset('e.n.05')]\n",
      "[Synset('nitrogen.n.01'), Synset('north.n.03'), Synset('newton.n.02'), Synset('normality.n.02'), Synset('n.n.05')]\n",
      "[]\n",
      "[Synset('roentgen.n.01'), Synset('gas_constant.n.01'), Synset('r.n.03'), Synset('radius.n.01')]\n",
      "[Synset('vitamin_e.n.01'), Synset('einsteinium.n.01'), Synset('east.n.01'), Synset('e.n.04'), Synset('e.n.05')]\n",
      "[Synset('vitamin_d.n.01'), Synset('five_hundred.n.01'), Synset('d.n.03')]\n",
      "[]\n",
      "[Synset('volt.n.01'), Synset('vanadium.n.01'), Synset('five.n.01'), Synset('v.n.04')]\n",
      "[Synset('vitamin_e.n.01'), Synset('einsteinium.n.01'), Synset('east.n.01'), Synset('e.n.04'), Synset('e.n.05')]\n",
      "[Synset('liter.n.01'), Synset('fifty.n.01'), Synset('lambert.n.01'), Synset('l.n.04')]\n",
      "[Synset('volt.n.01'), Synset('vanadium.n.01'), Synset('five.n.01'), Synset('v.n.04')]\n",
      "[Synset('vitamin_e.n.01'), Synset('einsteinium.n.01'), Synset('east.n.01'), Synset('e.n.04'), Synset('e.n.05')]\n",
      "[Synset('thymine.n.01'), Synset('deoxythymidine_monophosphate.n.01'), Synset('metric_ton.n.01'), Synset('t.n.04'), Synset('triiodothyronine.n.01'), Synset('thyroxine.n.01')]\n",
      "[]\n",
      "[Synset('degree_centigrade.n.01'), Synset('speed_of_light.n.01'), Synset('vitamin_c.n.01'), Synset('deoxycytidine_monophosphate.n.01'), Synset('cytosine.n.01'), Synset('carbon.n.01'), Synset('hundred.n.01'), Synset('coulomb.n.01'), Synset('c.n.09'), Synset('c.n.10'), Synset('c.n.11'), Synset('coke.n.03')]\n",
      "[Synset('oxygen.n.01'), Synset('o.n.02'), Synset('o.n.03')]\n",
      "[Synset('uracil.n.01'), Synset('uranium.n.01'), Synset('u.n.03')]\n",
      "[Synset('degree_centigrade.n.01'), Synset('speed_of_light.n.01'), Synset('vitamin_c.n.01'), Synset('deoxycytidine_monophosphate.n.01'), Synset('cytosine.n.01'), Synset('carbon.n.01'), Synset('hundred.n.01'), Synset('coulomb.n.01'), Synset('c.n.09'), Synset('c.n.10'), Synset('c.n.11'), Synset('coke.n.03')]\n",
      "[Synset('hydrogen.n.01'), Synset('henry.n.01'), Synset('planck's_constant.n.01'), Synset('h.n.04'), Synset('heat_content.n.01')]\n",
      "[]\n",
      "\n",
      "\n",
      "the classics\n",
      "\n",
      "classic \n"
     ]
    },
    {
     "name": "stderr",
     "output_type": "stream",
     "text": [
      "/usr/lib/python3.5/runpy.py:184: UserWarning: [W006] No entities to visualize found in Doc object. If this is surprising to you, make sure the Doc was processed using a model that supports named entity recognition, and check the `doc.ents` property manually if necessary.\n",
      "  \"__main__\", mod_spec)\n"
     ]
    },
    {
     "data": {
      "text/html": [
       "<div class=\"entities\" style=\"line-height: 2.5; direction: ltr\">classic </div>"
      ],
      "text/plain": [
       "<IPython.core.display.HTML object>"
      ]
     },
     "metadata": {},
     "output_type": "display_data"
    },
    {
     "name": "stdout",
     "output_type": "stream",
     "text": [
      "[('classic', 'JJ', 'O')]\n",
      "[Synset('degree_centigrade.n.01'), Synset('speed_of_light.n.01'), Synset('vitamin_c.n.01'), Synset('deoxycytidine_monophosphate.n.01'), Synset('cytosine.n.01'), Synset('carbon.n.01'), Synset('hundred.n.01'), Synset('coulomb.n.01'), Synset('c.n.09'), Synset('c.n.10'), Synset('c.n.11'), Synset('coke.n.03')]\n",
      "[Synset('liter.n.01'), Synset('fifty.n.01'), Synset('lambert.n.01'), Synset('l.n.04')]\n",
      "[Synset('angstrom.n.01'), Synset('vitamin_a.n.01'), Synset('deoxyadenosine_monophosphate.n.01'), Synset('adenine.n.01'), Synset('ampere.n.02'), Synset('a.n.06'), Synset('a.n.07')]\n",
      "[Synset('second.n.01'), Synset('sulfur.n.01'), Synset('south.n.03'), Synset('mho.n.01'), Synset('s.n.05'), Synset('randomness.n.01')]\n",
      "[Synset('second.n.01'), Synset('sulfur.n.01'), Synset('south.n.03'), Synset('mho.n.01'), Synset('s.n.05'), Synset('randomness.n.01')]\n",
      "[Synset('iodine.n.01'), Synset('one.n.01'), Synset('i.n.03')]\n",
      "[Synset('degree_centigrade.n.01'), Synset('speed_of_light.n.01'), Synset('vitamin_c.n.01'), Synset('deoxycytidine_monophosphate.n.01'), Synset('cytosine.n.01'), Synset('carbon.n.01'), Synset('hundred.n.01'), Synset('coulomb.n.01'), Synset('c.n.09'), Synset('c.n.10'), Synset('c.n.11'), Synset('coke.n.03')]\n",
      "[]\n",
      "\n",
      "\n",
      "Playlist for my favorite brother.\n",
      "\n",
      "Playlist favorite brother \n"
     ]
    },
    {
     "data": {
      "text/html": [
       "<div class=\"entities\" style=\"line-height: 2.5; direction: ltr\">\n",
       "<mark class=\"entity\" style=\"background: #aa9cfc; padding: 0.45em 0.6em; margin: 0 0.25em; line-height: 1; border-radius: 0.35em; box-decoration-break: clone; -webkit-box-decoration-break: clone\">\n",
       "    Playlist\n",
       "    <span style=\"font-size: 0.8em; font-weight: bold; line-height: 1; border-radius: 0.35em; text-transform: uppercase; vertical-align: middle; margin-left: 0.5rem\">PERSON</span>\n",
       "</mark>\n",
       " favorite brother </div>"
      ],
      "text/plain": [
       "<IPython.core.display.HTML object>"
      ]
     },
     "metadata": {},
     "output_type": "display_data"
    },
    {
     "name": "stdout",
     "output_type": "stream",
     "text": [
      "[('Playlist', 'NNP', 'B-GPE'), ('favorite', 'NN', 'O'), ('brother', 'NN', 'O')]\n",
      "[Synset('phosphorus.n.01'), Synset('p.n.02')]\n",
      "[Synset('liter.n.01'), Synset('fifty.n.01'), Synset('lambert.n.01'), Synset('l.n.04')]\n",
      "[Synset('angstrom.n.01'), Synset('vitamin_a.n.01'), Synset('deoxyadenosine_monophosphate.n.01'), Synset('adenine.n.01'), Synset('ampere.n.02'), Synset('a.n.06'), Synset('a.n.07')]\n",
      "[Synset('yttrium.n.01'), Synset('y.n.02')]\n",
      "[Synset('liter.n.01'), Synset('fifty.n.01'), Synset('lambert.n.01'), Synset('l.n.04')]\n",
      "[Synset('iodine.n.01'), Synset('one.n.01'), Synset('i.n.03')]\n",
      "[Synset('second.n.01'), Synset('sulfur.n.01'), Synset('south.n.03'), Synset('mho.n.01'), Synset('s.n.05'), Synset('randomness.n.01')]\n",
      "[Synset('thymine.n.01'), Synset('deoxythymidine_monophosphate.n.01'), Synset('metric_ton.n.01'), Synset('t.n.04'), Synset('triiodothyronine.n.01'), Synset('thyroxine.n.01')]\n",
      "[]\n",
      "[Synset('degree_fahrenheit.n.01'), Synset('fluorine.n.01'), Synset('farad.n.01'), Synset('f.n.04')]\n",
      "[Synset('angstrom.n.01'), Synset('vitamin_a.n.01'), Synset('deoxyadenosine_monophosphate.n.01'), Synset('adenine.n.01'), Synset('ampere.n.02'), Synset('a.n.06'), Synset('a.n.07')]\n",
      "[Synset('volt.n.01'), Synset('vanadium.n.01'), Synset('five.n.01'), Synset('v.n.04')]\n",
      "[Synset('oxygen.n.01'), Synset('o.n.02'), Synset('o.n.03')]\n",
      "[Synset('roentgen.n.01'), Synset('gas_constant.n.01'), Synset('r.n.03'), Synset('radius.n.01')]\n",
      "[Synset('iodine.n.01'), Synset('one.n.01'), Synset('i.n.03')]\n",
      "[Synset('thymine.n.01'), Synset('deoxythymidine_monophosphate.n.01'), Synset('metric_ton.n.01'), Synset('t.n.04'), Synset('triiodothyronine.n.01'), Synset('thyroxine.n.01')]\n",
      "[Synset('vitamin_e.n.01'), Synset('einsteinium.n.01'), Synset('east.n.01'), Synset('e.n.04'), Synset('e.n.05')]\n",
      "[]\n",
      "[Synset('bacillus.n.01'), Synset('b-complex_vitamin.n.01'), Synset('boron.n.01'), Synset('bel.n.01'), Synset('barn.n.02'), Synset('b.n.06'), Synset('b.n.07')]\n",
      "[Synset('roentgen.n.01'), Synset('gas_constant.n.01'), Synset('r.n.03'), Synset('radius.n.01')]\n",
      "[Synset('oxygen.n.01'), Synset('o.n.02'), Synset('o.n.03')]\n",
      "[Synset('thymine.n.01'), Synset('deoxythymidine_monophosphate.n.01'), Synset('metric_ton.n.01'), Synset('t.n.04'), Synset('triiodothyronine.n.01'), Synset('thyroxine.n.01')]\n",
      "[Synset('hydrogen.n.01'), Synset('henry.n.01'), Synset('planck's_constant.n.01'), Synset('h.n.04'), Synset('heat_content.n.01')]\n",
      "[Synset('vitamin_e.n.01'), Synset('einsteinium.n.01'), Synset('east.n.01'), Synset('e.n.04'), Synset('e.n.05')]\n",
      "[Synset('roentgen.n.01'), Synset('gas_constant.n.01'), Synset('r.n.03'), Synset('radius.n.01')]\n",
      "[]\n",
      "\n",
      "\n",
      "EDM/Electronic/Dance\n",
      "\n",
      "EDM Electronic Dance \n"
     ]
    },
    {
     "data": {
      "text/html": [
       "<div class=\"entities\" style=\"line-height: 2.5; direction: ltr\">\n",
       "<mark class=\"entity\" style=\"background: #7aecec; padding: 0.45em 0.6em; margin: 0 0.25em; line-height: 1; border-radius: 0.35em; box-decoration-break: clone; -webkit-box-decoration-break: clone\">\n",
       "    EDM Electronic Dance\n",
       "    <span style=\"font-size: 0.8em; font-weight: bold; line-height: 1; border-radius: 0.35em; text-transform: uppercase; vertical-align: middle; margin-left: 0.5rem\">ORG</span>\n",
       "</mark>\n",
       " </div>"
      ],
      "text/plain": [
       "<IPython.core.display.HTML object>"
      ]
     },
     "metadata": {},
     "output_type": "display_data"
    },
    {
     "name": "stdout",
     "output_type": "stream",
     "text": [
      "[('EDM', 'NNP', 'B-ORGANIZATION'), ('Electronic', 'NNP', 'I-ORGANIZATION'), ('Dance', 'NNP', 'I-ORGANIZATION')]\n",
      "[Synset('vitamin_e.n.01'), Synset('einsteinium.n.01'), Synset('east.n.01'), Synset('e.n.04'), Synset('e.n.05')]\n",
      "[Synset('vitamin_d.n.01'), Synset('five_hundred.n.01'), Synset('d.n.03')]\n",
      "[Synset('meter.n.01'), Synset('molarity.n.01'), Synset('thousand.n.01'), Synset('megabyte.n.01'), Synset('megabyte.n.02'), Synset('m.n.06')]\n",
      "[]\n",
      "[Synset('vitamin_e.n.01'), Synset('einsteinium.n.01'), Synset('east.n.01'), Synset('e.n.04'), Synset('e.n.05')]\n",
      "[Synset('liter.n.01'), Synset('fifty.n.01'), Synset('lambert.n.01'), Synset('l.n.04')]\n",
      "[Synset('vitamin_e.n.01'), Synset('einsteinium.n.01'), Synset('east.n.01'), Synset('e.n.04'), Synset('e.n.05')]\n",
      "[Synset('degree_centigrade.n.01'), Synset('speed_of_light.n.01'), Synset('vitamin_c.n.01'), Synset('deoxycytidine_monophosphate.n.01'), Synset('cytosine.n.01'), Synset('carbon.n.01'), Synset('hundred.n.01'), Synset('coulomb.n.01'), Synset('c.n.09'), Synset('c.n.10'), Synset('c.n.11'), Synset('coke.n.03')]\n",
      "[Synset('thymine.n.01'), Synset('deoxythymidine_monophosphate.n.01'), Synset('metric_ton.n.01'), Synset('t.n.04'), Synset('triiodothyronine.n.01'), Synset('thyroxine.n.01')]\n",
      "[Synset('roentgen.n.01'), Synset('gas_constant.n.01'), Synset('r.n.03'), Synset('radius.n.01')]\n",
      "[Synset('oxygen.n.01'), Synset('o.n.02'), Synset('o.n.03')]\n",
      "[Synset('nitrogen.n.01'), Synset('north.n.03'), Synset('newton.n.02'), Synset('normality.n.02'), Synset('n.n.05')]\n",
      "[Synset('iodine.n.01'), Synset('one.n.01'), Synset('i.n.03')]\n",
      "[Synset('degree_centigrade.n.01'), Synset('speed_of_light.n.01'), Synset('vitamin_c.n.01'), Synset('deoxycytidine_monophosphate.n.01'), Synset('cytosine.n.01'), Synset('carbon.n.01'), Synset('hundred.n.01'), Synset('coulomb.n.01'), Synset('c.n.09'), Synset('c.n.10'), Synset('c.n.11'), Synset('coke.n.03')]\n",
      "[]\n",
      "[Synset('vitamin_d.n.01'), Synset('five_hundred.n.01'), Synset('d.n.03')]\n",
      "[Synset('angstrom.n.01'), Synset('vitamin_a.n.01'), Synset('deoxyadenosine_monophosphate.n.01'), Synset('adenine.n.01'), Synset('ampere.n.02'), Synset('a.n.06'), Synset('a.n.07')]\n",
      "[Synset('nitrogen.n.01'), Synset('north.n.03'), Synset('newton.n.02'), Synset('normality.n.02'), Synset('n.n.05')]\n",
      "[Synset('degree_centigrade.n.01'), Synset('speed_of_light.n.01'), Synset('vitamin_c.n.01'), Synset('deoxycytidine_monophosphate.n.01'), Synset('cytosine.n.01'), Synset('carbon.n.01'), Synset('hundred.n.01'), Synset('coulomb.n.01'), Synset('c.n.09'), Synset('c.n.10'), Synset('c.n.11'), Synset('coke.n.03')]\n",
      "[Synset('vitamin_e.n.01'), Synset('einsteinium.n.01'), Synset('east.n.01'), Synset('e.n.04'), Synset('e.n.05')]\n",
      "[]\n",
      "\n",
      "\n",
      "i love you britt :)\n",
      "\n",
      "love britt \n"
     ]
    },
    {
     "name": "stderr",
     "output_type": "stream",
     "text": [
      "/usr/lib/python3.5/runpy.py:184: UserWarning: [W006] No entities to visualize found in Doc object. If this is surprising to you, make sure the Doc was processed using a model that supports named entity recognition, and check the `doc.ents` property manually if necessary.\n",
      "  \"__main__\", mod_spec)\n"
     ]
    },
    {
     "data": {
      "text/html": [
       "<div class=\"entities\" style=\"line-height: 2.5; direction: ltr\">love britt </div>"
      ],
      "text/plain": [
       "<IPython.core.display.HTML object>"
      ]
     },
     "metadata": {},
     "output_type": "display_data"
    },
    {
     "name": "stdout",
     "output_type": "stream",
     "text": [
      "[('love', 'NN', 'O'), ('britt', 'NN', 'O')]\n",
      "[Synset('liter.n.01'), Synset('fifty.n.01'), Synset('lambert.n.01'), Synset('l.n.04')]\n",
      "[Synset('oxygen.n.01'), Synset('o.n.02'), Synset('o.n.03')]\n",
      "[Synset('volt.n.01'), Synset('vanadium.n.01'), Synset('five.n.01'), Synset('v.n.04')]\n",
      "[Synset('vitamin_e.n.01'), Synset('einsteinium.n.01'), Synset('east.n.01'), Synset('e.n.04'), Synset('e.n.05')]\n",
      "[]\n",
      "[Synset('bacillus.n.01'), Synset('b-complex_vitamin.n.01'), Synset('boron.n.01'), Synset('bel.n.01'), Synset('barn.n.02'), Synset('b.n.06'), Synset('b.n.07')]\n",
      "[Synset('roentgen.n.01'), Synset('gas_constant.n.01'), Synset('r.n.03'), Synset('radius.n.01')]\n",
      "[Synset('iodine.n.01'), Synset('one.n.01'), Synset('i.n.03')]\n",
      "[Synset('thymine.n.01'), Synset('deoxythymidine_monophosphate.n.01'), Synset('metric_ton.n.01'), Synset('t.n.04'), Synset('triiodothyronine.n.01'), Synset('thyroxine.n.01')]\n",
      "[Synset('thymine.n.01'), Synset('deoxythymidine_monophosphate.n.01'), Synset('metric_ton.n.01'), Synset('t.n.04'), Synset('triiodothyronine.n.01'), Synset('thyroxine.n.01')]\n",
      "[]\n",
      "\n",
      "\n",
      "When the piano is to the fore then the music so often swings but it can sometimes surprise and be the coolest sounds around. Featuring Herbie Hancock, Bill Evans, Oscar Peterson, Bud Powell, Teddy Wilson and many more\n",
      "\n",
      "When piano fore music often swing sometimes surprise coolest sound around Featuring Herbie Hancock Bill Evans Oscar Peterson Bud Powell Teddy Wilson many \n"
     ]
    },
    {
     "data": {
      "text/html": [
       "<div class=\"entities\" style=\"line-height: 2.5; direction: ltr\">When piano fore music often swing sometimes surprise coolest sound around Featuring \n",
       "<mark class=\"entity\" style=\"background: #aa9cfc; padding: 0.45em 0.6em; margin: 0 0.25em; line-height: 1; border-radius: 0.35em; box-decoration-break: clone; -webkit-box-decoration-break: clone\">\n",
       "    Herbie\n",
       "    <span style=\"font-size: 0.8em; font-weight: bold; line-height: 1; border-radius: 0.35em; text-transform: uppercase; vertical-align: middle; margin-left: 0.5rem\">PERSON</span>\n",
       "</mark>\n",
       " \n",
       "<mark class=\"entity\" style=\"background: #7aecec; padding: 0.45em 0.6em; margin: 0 0.25em; line-height: 1; border-radius: 0.35em; box-decoration-break: clone; -webkit-box-decoration-break: clone\">\n",
       "    Hancock\n",
       "    <span style=\"font-size: 0.8em; font-weight: bold; line-height: 1; border-radius: 0.35em; text-transform: uppercase; vertical-align: middle; margin-left: 0.5rem\">ORG</span>\n",
       "</mark>\n",
       " \n",
       "<mark class=\"entity\" style=\"background: #aa9cfc; padding: 0.45em 0.6em; margin: 0 0.25em; line-height: 1; border-radius: 0.35em; box-decoration-break: clone; -webkit-box-decoration-break: clone\">\n",
       "    Bill Evans Oscar Peterson Bud Powell Teddy Wilson\n",
       "    <span style=\"font-size: 0.8em; font-weight: bold; line-height: 1; border-radius: 0.35em; text-transform: uppercase; vertical-align: middle; margin-left: 0.5rem\">PERSON</span>\n",
       "</mark>\n",
       " many </div>"
      ],
      "text/plain": [
       "<IPython.core.display.HTML object>"
      ]
     },
     "metadata": {},
     "output_type": "display_data"
    },
    {
     "name": "stdout",
     "output_type": "stream",
     "text": [
      "[('When', 'WRB', 'O'), ('piano', 'NN', 'O'), ('fore', 'RB', 'O'), ('music', 'NN', 'O'), ('often', 'RB', 'O'), ('swing', 'VBG', 'O'), ('sometimes', 'RB', 'O'), ('surprise', 'VB', 'O'), ('coolest', 'JJS', 'O'), ('sound', 'NN', 'O'), ('around', 'IN', 'O'), ('Featuring', 'NNP', 'O'), ('Herbie', 'NNP', 'B-PERSON'), ('Hancock', 'NNP', 'I-PERSON'), ('Bill', 'NNP', 'B-PERSON'), ('Evans', 'NNP', 'I-PERSON'), ('Oscar', 'NNP', 'I-PERSON'), ('Peterson', 'NNP', 'I-PERSON'), ('Bud', 'NNP', 'I-PERSON'), ('Powell', 'NNP', 'I-PERSON'), ('Teddy', 'NNP', 'I-PERSON'), ('Wilson', 'NNP', 'I-PERSON'), ('many', 'JJ', 'O')]\n",
      "[Synset('tungsten.n.01'), Synset('west.n.02'), Synset('watt.n.01'), Synset('w.n.04')]\n",
      "[Synset('hydrogen.n.01'), Synset('henry.n.01'), Synset('planck's_constant.n.01'), Synset('h.n.04'), Synset('heat_content.n.01')]\n",
      "[Synset('vitamin_e.n.01'), Synset('einsteinium.n.01'), Synset('east.n.01'), Synset('e.n.04'), Synset('e.n.05')]\n",
      "[Synset('nitrogen.n.01'), Synset('north.n.03'), Synset('newton.n.02'), Synset('normality.n.02'), Synset('n.n.05')]\n",
      "[]\n",
      "[Synset('phosphorus.n.01'), Synset('p.n.02')]\n",
      "[Synset('iodine.n.01'), Synset('one.n.01'), Synset('i.n.03')]\n",
      "[Synset('angstrom.n.01'), Synset('vitamin_a.n.01'), Synset('deoxyadenosine_monophosphate.n.01'), Synset('adenine.n.01'), Synset('ampere.n.02'), Synset('a.n.06'), Synset('a.n.07')]\n",
      "[Synset('nitrogen.n.01'), Synset('north.n.03'), Synset('newton.n.02'), Synset('normality.n.02'), Synset('n.n.05')]\n",
      "[Synset('oxygen.n.01'), Synset('o.n.02'), Synset('o.n.03')]\n",
      "[]\n",
      "[Synset('degree_fahrenheit.n.01'), Synset('fluorine.n.01'), Synset('farad.n.01'), Synset('f.n.04')]\n",
      "[Synset('oxygen.n.01'), Synset('o.n.02'), Synset('o.n.03')]\n",
      "[Synset('roentgen.n.01'), Synset('gas_constant.n.01'), Synset('r.n.03'), Synset('radius.n.01')]\n",
      "[Synset('vitamin_e.n.01'), Synset('einsteinium.n.01'), Synset('east.n.01'), Synset('e.n.04'), Synset('e.n.05')]\n",
      "[]\n",
      "[Synset('meter.n.01'), Synset('molarity.n.01'), Synset('thousand.n.01'), Synset('megabyte.n.01'), Synset('megabyte.n.02'), Synset('m.n.06')]\n",
      "[Synset('uracil.n.01'), Synset('uranium.n.01'), Synset('u.n.03')]\n",
      "[Synset('second.n.01'), Synset('sulfur.n.01'), Synset('south.n.03'), Synset('mho.n.01'), Synset('s.n.05'), Synset('randomness.n.01')]\n",
      "[Synset('iodine.n.01'), Synset('one.n.01'), Synset('i.n.03')]\n",
      "[Synset('degree_centigrade.n.01'), Synset('speed_of_light.n.01'), Synset('vitamin_c.n.01'), Synset('deoxycytidine_monophosphate.n.01'), Synset('cytosine.n.01'), Synset('carbon.n.01'), Synset('hundred.n.01'), Synset('coulomb.n.01'), Synset('c.n.09'), Synset('c.n.10'), Synset('c.n.11'), Synset('coke.n.03')]\n",
      "[]\n",
      "[Synset('oxygen.n.01'), Synset('o.n.02'), Synset('o.n.03')]\n",
      "[Synset('degree_fahrenheit.n.01'), Synset('fluorine.n.01'), Synset('farad.n.01'), Synset('f.n.04')]\n",
      "[Synset('thymine.n.01'), Synset('deoxythymidine_monophosphate.n.01'), Synset('metric_ton.n.01'), Synset('t.n.04'), Synset('triiodothyronine.n.01'), Synset('thyroxine.n.01')]\n",
      "[Synset('vitamin_e.n.01'), Synset('einsteinium.n.01'), Synset('east.n.01'), Synset('e.n.04'), Synset('e.n.05')]\n",
      "[Synset('nitrogen.n.01'), Synset('north.n.03'), Synset('newton.n.02'), Synset('normality.n.02'), Synset('n.n.05')]\n",
      "[]\n",
      "[Synset('second.n.01'), Synset('sulfur.n.01'), Synset('south.n.03'), Synset('mho.n.01'), Synset('s.n.05'), Synset('randomness.n.01')]\n",
      "[Synset('tungsten.n.01'), Synset('west.n.02'), Synset('watt.n.01'), Synset('w.n.04')]\n",
      "[Synset('iodine.n.01'), Synset('one.n.01'), Synset('i.n.03')]\n",
      "[Synset('nitrogen.n.01'), Synset('north.n.03'), Synset('newton.n.02'), Synset('normality.n.02'), Synset('n.n.05')]\n",
      "[Synset('gram.n.01'), Synset('guanine.n.01'), Synset('deoxyguanosine_monophosphate.n.01'), Synset('thousand.n.01'), Synset('g.n.05'), Synset('gigabyte.n.01'), Synset('gigabyte.n.02'), Synset('gravitational_constant.n.01'), Synset('g.n.09')]\n",
      "[]\n",
      "[Synset('second.n.01'), Synset('sulfur.n.01'), Synset('south.n.03'), Synset('mho.n.01'), Synset('s.n.05'), Synset('randomness.n.01')]\n",
      "[Synset('oxygen.n.01'), Synset('o.n.02'), Synset('o.n.03')]\n",
      "[Synset('meter.n.01'), Synset('molarity.n.01'), Synset('thousand.n.01'), Synset('megabyte.n.01'), Synset('megabyte.n.02'), Synset('m.n.06')]\n",
      "[Synset('vitamin_e.n.01'), Synset('einsteinium.n.01'), Synset('east.n.01'), Synset('e.n.04'), Synset('e.n.05')]\n",
      "[Synset('thymine.n.01'), Synset('deoxythymidine_monophosphate.n.01'), Synset('metric_ton.n.01'), Synset('t.n.04'), Synset('triiodothyronine.n.01'), Synset('thyroxine.n.01')]\n",
      "[Synset('iodine.n.01'), Synset('one.n.01'), Synset('i.n.03')]\n",
      "[Synset('meter.n.01'), Synset('molarity.n.01'), Synset('thousand.n.01'), Synset('megabyte.n.01'), Synset('megabyte.n.02'), Synset('m.n.06')]\n",
      "[Synset('vitamin_e.n.01'), Synset('einsteinium.n.01'), Synset('east.n.01'), Synset('e.n.04'), Synset('e.n.05')]\n",
      "[Synset('second.n.01'), Synset('sulfur.n.01'), Synset('south.n.03'), Synset('mho.n.01'), Synset('s.n.05'), Synset('randomness.n.01')]\n",
      "[]\n",
      "[Synset('second.n.01'), Synset('sulfur.n.01'), Synset('south.n.03'), Synset('mho.n.01'), Synset('s.n.05'), Synset('randomness.n.01')]\n",
      "[Synset('uracil.n.01'), Synset('uranium.n.01'), Synset('u.n.03')]\n",
      "[Synset('roentgen.n.01'), Synset('gas_constant.n.01'), Synset('r.n.03'), Synset('radius.n.01')]\n",
      "[Synset('phosphorus.n.01'), Synset('p.n.02')]\n",
      "[Synset('roentgen.n.01'), Synset('gas_constant.n.01'), Synset('r.n.03'), Synset('radius.n.01')]\n",
      "[Synset('iodine.n.01'), Synset('one.n.01'), Synset('i.n.03')]\n",
      "[Synset('second.n.01'), Synset('sulfur.n.01'), Synset('south.n.03'), Synset('mho.n.01'), Synset('s.n.05'), Synset('randomness.n.01')]\n",
      "[Synset('vitamin_e.n.01'), Synset('einsteinium.n.01'), Synset('east.n.01'), Synset('e.n.04'), Synset('e.n.05')]\n",
      "[]\n",
      "[Synset('degree_centigrade.n.01'), Synset('speed_of_light.n.01'), Synset('vitamin_c.n.01'), Synset('deoxycytidine_monophosphate.n.01'), Synset('cytosine.n.01'), Synset('carbon.n.01'), Synset('hundred.n.01'), Synset('coulomb.n.01'), Synset('c.n.09'), Synset('c.n.10'), Synset('c.n.11'), Synset('coke.n.03')]\n",
      "[Synset('oxygen.n.01'), Synset('o.n.02'), Synset('o.n.03')]\n",
      "[Synset('oxygen.n.01'), Synset('o.n.02'), Synset('o.n.03')]\n",
      "[Synset('liter.n.01'), Synset('fifty.n.01'), Synset('lambert.n.01'), Synset('l.n.04')]\n",
      "[Synset('vitamin_e.n.01'), Synset('einsteinium.n.01'), Synset('east.n.01'), Synset('e.n.04'), Synset('e.n.05')]\n",
      "[Synset('second.n.01'), Synset('sulfur.n.01'), Synset('south.n.03'), Synset('mho.n.01'), Synset('s.n.05'), Synset('randomness.n.01')]\n",
      "[Synset('thymine.n.01'), Synset('deoxythymidine_monophosphate.n.01'), Synset('metric_ton.n.01'), Synset('t.n.04'), Synset('triiodothyronine.n.01'), Synset('thyroxine.n.01')]\n",
      "[]\n",
      "[Synset('second.n.01'), Synset('sulfur.n.01'), Synset('south.n.03'), Synset('mho.n.01'), Synset('s.n.05'), Synset('randomness.n.01')]\n",
      "[Synset('oxygen.n.01'), Synset('o.n.02'), Synset('o.n.03')]\n",
      "[Synset('uracil.n.01'), Synset('uranium.n.01'), Synset('u.n.03')]\n",
      "[Synset('nitrogen.n.01'), Synset('north.n.03'), Synset('newton.n.02'), Synset('normality.n.02'), Synset('n.n.05')]\n",
      "[Synset('vitamin_d.n.01'), Synset('five_hundred.n.01'), Synset('d.n.03')]\n",
      "[]\n",
      "[Synset('angstrom.n.01'), Synset('vitamin_a.n.01'), Synset('deoxyadenosine_monophosphate.n.01'), Synset('adenine.n.01'), Synset('ampere.n.02'), Synset('a.n.06'), Synset('a.n.07')]\n",
      "[Synset('roentgen.n.01'), Synset('gas_constant.n.01'), Synset('r.n.03'), Synset('radius.n.01')]\n",
      "[Synset('oxygen.n.01'), Synset('o.n.02'), Synset('o.n.03')]\n",
      "[Synset('uracil.n.01'), Synset('uranium.n.01'), Synset('u.n.03')]\n",
      "[Synset('nitrogen.n.01'), Synset('north.n.03'), Synset('newton.n.02'), Synset('normality.n.02'), Synset('n.n.05')]\n",
      "[Synset('vitamin_d.n.01'), Synset('five_hundred.n.01'), Synset('d.n.03')]\n",
      "[]\n",
      "[Synset('degree_fahrenheit.n.01'), Synset('fluorine.n.01'), Synset('farad.n.01'), Synset('f.n.04')]\n",
      "[Synset('vitamin_e.n.01'), Synset('einsteinium.n.01'), Synset('east.n.01'), Synset('e.n.04'), Synset('e.n.05')]\n",
      "[Synset('angstrom.n.01'), Synset('vitamin_a.n.01'), Synset('deoxyadenosine_monophosphate.n.01'), Synset('adenine.n.01'), Synset('ampere.n.02'), Synset('a.n.06'), Synset('a.n.07')]\n",
      "[Synset('thymine.n.01'), Synset('deoxythymidine_monophosphate.n.01'), Synset('metric_ton.n.01'), Synset('t.n.04'), Synset('triiodothyronine.n.01'), Synset('thyroxine.n.01')]\n",
      "[Synset('uracil.n.01'), Synset('uranium.n.01'), Synset('u.n.03')]\n",
      "[Synset('roentgen.n.01'), Synset('gas_constant.n.01'), Synset('r.n.03'), Synset('radius.n.01')]\n",
      "[Synset('iodine.n.01'), Synset('one.n.01'), Synset('i.n.03')]\n",
      "[Synset('nitrogen.n.01'), Synset('north.n.03'), Synset('newton.n.02'), Synset('normality.n.02'), Synset('n.n.05')]\n",
      "[Synset('gram.n.01'), Synset('guanine.n.01'), Synset('deoxyguanosine_monophosphate.n.01'), Synset('thousand.n.01'), Synset('g.n.05'), Synset('gigabyte.n.01'), Synset('gigabyte.n.02'), Synset('gravitational_constant.n.01'), Synset('g.n.09')]\n",
      "[]\n",
      "[Synset('hydrogen.n.01'), Synset('henry.n.01'), Synset('planck's_constant.n.01'), Synset('h.n.04'), Synset('heat_content.n.01')]\n",
      "[Synset('vitamin_e.n.01'), Synset('einsteinium.n.01'), Synset('east.n.01'), Synset('e.n.04'), Synset('e.n.05')]\n",
      "[Synset('roentgen.n.01'), Synset('gas_constant.n.01'), Synset('r.n.03'), Synset('radius.n.01')]\n",
      "[Synset('bacillus.n.01'), Synset('b-complex_vitamin.n.01'), Synset('boron.n.01'), Synset('bel.n.01'), Synset('barn.n.02'), Synset('b.n.06'), Synset('b.n.07')]\n",
      "[Synset('iodine.n.01'), Synset('one.n.01'), Synset('i.n.03')]\n",
      "[Synset('vitamin_e.n.01'), Synset('einsteinium.n.01'), Synset('east.n.01'), Synset('e.n.04'), Synset('e.n.05')]\n",
      "[]\n",
      "[Synset('hydrogen.n.01'), Synset('henry.n.01'), Synset('planck's_constant.n.01'), Synset('h.n.04'), Synset('heat_content.n.01')]\n",
      "[Synset('angstrom.n.01'), Synset('vitamin_a.n.01'), Synset('deoxyadenosine_monophosphate.n.01'), Synset('adenine.n.01'), Synset('ampere.n.02'), Synset('a.n.06'), Synset('a.n.07')]\n",
      "[Synset('nitrogen.n.01'), Synset('north.n.03'), Synset('newton.n.02'), Synset('normality.n.02'), Synset('n.n.05')]\n",
      "[Synset('degree_centigrade.n.01'), Synset('speed_of_light.n.01'), Synset('vitamin_c.n.01'), Synset('deoxycytidine_monophosphate.n.01'), Synset('cytosine.n.01'), Synset('carbon.n.01'), Synset('hundred.n.01'), Synset('coulomb.n.01'), Synset('c.n.09'), Synset('c.n.10'), Synset('c.n.11'), Synset('coke.n.03')]\n",
      "[Synset('oxygen.n.01'), Synset('o.n.02'), Synset('o.n.03')]\n",
      "[Synset('degree_centigrade.n.01'), Synset('speed_of_light.n.01'), Synset('vitamin_c.n.01'), Synset('deoxycytidine_monophosphate.n.01'), Synset('cytosine.n.01'), Synset('carbon.n.01'), Synset('hundred.n.01'), Synset('coulomb.n.01'), Synset('c.n.09'), Synset('c.n.10'), Synset('c.n.11'), Synset('coke.n.03')]\n",
      "[Synset('kelvin.n.01'), Synset('potassium.n.01'), Synset('thousand.n.01'), Synset('kilobyte.n.01'), Synset('kilobyte.n.02'), Synset('k.n.06'), Synset('k.n.07')]\n",
      "[]\n",
      "[Synset('bacillus.n.01'), Synset('b-complex_vitamin.n.01'), Synset('boron.n.01'), Synset('bel.n.01'), Synset('barn.n.02'), Synset('b.n.06'), Synset('b.n.07')]\n",
      "[Synset('iodine.n.01'), Synset('one.n.01'), Synset('i.n.03')]\n",
      "[Synset('liter.n.01'), Synset('fifty.n.01'), Synset('lambert.n.01'), Synset('l.n.04')]\n",
      "[Synset('liter.n.01'), Synset('fifty.n.01'), Synset('lambert.n.01'), Synset('l.n.04')]\n",
      "[]\n",
      "[Synset('vitamin_e.n.01'), Synset('einsteinium.n.01'), Synset('east.n.01'), Synset('e.n.04'), Synset('e.n.05')]\n",
      "[Synset('volt.n.01'), Synset('vanadium.n.01'), Synset('five.n.01'), Synset('v.n.04')]\n",
      "[Synset('angstrom.n.01'), Synset('vitamin_a.n.01'), Synset('deoxyadenosine_monophosphate.n.01'), Synset('adenine.n.01'), Synset('ampere.n.02'), Synset('a.n.06'), Synset('a.n.07')]\n",
      "[Synset('nitrogen.n.01'), Synset('north.n.03'), Synset('newton.n.02'), Synset('normality.n.02'), Synset('n.n.05')]\n",
      "[Synset('second.n.01'), Synset('sulfur.n.01'), Synset('south.n.03'), Synset('mho.n.01'), Synset('s.n.05'), Synset('randomness.n.01')]\n",
      "[]\n",
      "[Synset('oxygen.n.01'), Synset('o.n.02'), Synset('o.n.03')]\n",
      "[Synset('second.n.01'), Synset('sulfur.n.01'), Synset('south.n.03'), Synset('mho.n.01'), Synset('s.n.05'), Synset('randomness.n.01')]\n",
      "[Synset('degree_centigrade.n.01'), Synset('speed_of_light.n.01'), Synset('vitamin_c.n.01'), Synset('deoxycytidine_monophosphate.n.01'), Synset('cytosine.n.01'), Synset('carbon.n.01'), Synset('hundred.n.01'), Synset('coulomb.n.01'), Synset('c.n.09'), Synset('c.n.10'), Synset('c.n.11'), Synset('coke.n.03')]\n",
      "[Synset('angstrom.n.01'), Synset('vitamin_a.n.01'), Synset('deoxyadenosine_monophosphate.n.01'), Synset('adenine.n.01'), Synset('ampere.n.02'), Synset('a.n.06'), Synset('a.n.07')]\n",
      "[Synset('roentgen.n.01'), Synset('gas_constant.n.01'), Synset('r.n.03'), Synset('radius.n.01')]\n",
      "[]\n",
      "[Synset('phosphorus.n.01'), Synset('p.n.02')]\n",
      "[Synset('vitamin_e.n.01'), Synset('einsteinium.n.01'), Synset('east.n.01'), Synset('e.n.04'), Synset('e.n.05')]\n",
      "[Synset('thymine.n.01'), Synset('deoxythymidine_monophosphate.n.01'), Synset('metric_ton.n.01'), Synset('t.n.04'), Synset('triiodothyronine.n.01'), Synset('thyroxine.n.01')]\n",
      "[Synset('vitamin_e.n.01'), Synset('einsteinium.n.01'), Synset('east.n.01'), Synset('e.n.04'), Synset('e.n.05')]\n",
      "[Synset('roentgen.n.01'), Synset('gas_constant.n.01'), Synset('r.n.03'), Synset('radius.n.01')]\n",
      "[Synset('second.n.01'), Synset('sulfur.n.01'), Synset('south.n.03'), Synset('mho.n.01'), Synset('s.n.05'), Synset('randomness.n.01')]\n",
      "[Synset('oxygen.n.01'), Synset('o.n.02'), Synset('o.n.03')]\n",
      "[Synset('nitrogen.n.01'), Synset('north.n.03'), Synset('newton.n.02'), Synset('normality.n.02'), Synset('n.n.05')]\n",
      "[]\n",
      "[Synset('bacillus.n.01'), Synset('b-complex_vitamin.n.01'), Synset('boron.n.01'), Synset('bel.n.01'), Synset('barn.n.02'), Synset('b.n.06'), Synset('b.n.07')]\n",
      "[Synset('uracil.n.01'), Synset('uranium.n.01'), Synset('u.n.03')]\n",
      "[Synset('vitamin_d.n.01'), Synset('five_hundred.n.01'), Synset('d.n.03')]\n",
      "[]\n",
      "[Synset('phosphorus.n.01'), Synset('p.n.02')]\n",
      "[Synset('oxygen.n.01'), Synset('o.n.02'), Synset('o.n.03')]\n",
      "[Synset('tungsten.n.01'), Synset('west.n.02'), Synset('watt.n.01'), Synset('w.n.04')]\n",
      "[Synset('vitamin_e.n.01'), Synset('einsteinium.n.01'), Synset('east.n.01'), Synset('e.n.04'), Synset('e.n.05')]\n",
      "[Synset('liter.n.01'), Synset('fifty.n.01'), Synset('lambert.n.01'), Synset('l.n.04')]\n",
      "[Synset('liter.n.01'), Synset('fifty.n.01'), Synset('lambert.n.01'), Synset('l.n.04')]\n",
      "[]\n",
      "[Synset('thymine.n.01'), Synset('deoxythymidine_monophosphate.n.01'), Synset('metric_ton.n.01'), Synset('t.n.04'), Synset('triiodothyronine.n.01'), Synset('thyroxine.n.01')]\n",
      "[Synset('vitamin_e.n.01'), Synset('einsteinium.n.01'), Synset('east.n.01'), Synset('e.n.04'), Synset('e.n.05')]\n",
      "[Synset('vitamin_d.n.01'), Synset('five_hundred.n.01'), Synset('d.n.03')]\n",
      "[Synset('vitamin_d.n.01'), Synset('five_hundred.n.01'), Synset('d.n.03')]\n",
      "[Synset('yttrium.n.01'), Synset('y.n.02')]\n",
      "[]\n",
      "[Synset('tungsten.n.01'), Synset('west.n.02'), Synset('watt.n.01'), Synset('w.n.04')]\n",
      "[Synset('iodine.n.01'), Synset('one.n.01'), Synset('i.n.03')]\n",
      "[Synset('liter.n.01'), Synset('fifty.n.01'), Synset('lambert.n.01'), Synset('l.n.04')]\n",
      "[Synset('second.n.01'), Synset('sulfur.n.01'), Synset('south.n.03'), Synset('mho.n.01'), Synset('s.n.05'), Synset('randomness.n.01')]\n",
      "[Synset('oxygen.n.01'), Synset('o.n.02'), Synset('o.n.03')]\n",
      "[Synset('nitrogen.n.01'), Synset('north.n.03'), Synset('newton.n.02'), Synset('normality.n.02'), Synset('n.n.05')]\n",
      "[]\n",
      "[Synset('meter.n.01'), Synset('molarity.n.01'), Synset('thousand.n.01'), Synset('megabyte.n.01'), Synset('megabyte.n.02'), Synset('m.n.06')]\n",
      "[Synset('angstrom.n.01'), Synset('vitamin_a.n.01'), Synset('deoxyadenosine_monophosphate.n.01'), Synset('adenine.n.01'), Synset('ampere.n.02'), Synset('a.n.06'), Synset('a.n.07')]\n",
      "[Synset('nitrogen.n.01'), Synset('north.n.03'), Synset('newton.n.02'), Synset('normality.n.02'), Synset('n.n.05')]\n",
      "[Synset('yttrium.n.01'), Synset('y.n.02')]\n",
      "[]\n",
      "\n",
      "\n",
      "<3\n",
      "\n",
      " \n"
     ]
    },
    {
     "name": "stderr",
     "output_type": "stream",
     "text": [
      "/usr/lib/python3.5/runpy.py:184: UserWarning: [W006] No entities to visualize found in Doc object. If this is surprising to you, make sure the Doc was processed using a model that supports named entity recognition, and check the `doc.ents` property manually if necessary.\n",
      "  \"__main__\", mod_spec)\n"
     ]
    },
    {
     "data": {
      "text/html": [
       "<div class=\"entities\" style=\"line-height: 2.5; direction: ltr\"> </div>"
      ],
      "text/plain": [
       "<IPython.core.display.HTML object>"
      ]
     },
     "metadata": {},
     "output_type": "display_data"
    },
    {
     "name": "stdout",
     "output_type": "stream",
     "text": [
      "[]\n",
      "[]\n"
     ]
    }
   ],
   "source": [
    "for _desc in descriptions_list[3300:3310]:\n",
    "    print('\\n')\n",
    "    print(_desc)\n",
    "    print(clean_text(str(_desc)))\n",
    "    displacy.render(nlp(clean_text(str(_desc))), style='ent', jupyter = True, options = {'distance': 80})\n",
    "    print(tree2conlltags(ne_chunk(pos_tag(word_tokenize(clean_text(str(_desc)))))))\n",
    "    for _word in clean_text(str(_desc)):\n",
    "        possible_synsets = wn.synsets(_word,'n') # or 'a' or 'v'\n",
    "        print(possible_synsets)"
   ]
  },
  {
   "cell_type": "code",
   "execution_count": null,
   "metadata": {},
   "outputs": [],
   "source": []
  }
 ],
 "metadata": {
  "kernelspec": {
   "display_name": "Python 3",
   "language": "python",
   "name": "python3"
  },
  "language_info": {
   "codemirror_mode": {
    "name": "ipython",
    "version": 3
   },
   "file_extension": ".py",
   "mimetype": "text/x-python",
   "name": "python",
   "nbconvert_exporter": "python",
   "pygments_lexer": "ipython3",
   "version": "3.5.2"
  }
 },
 "nbformat": 4,
 "nbformat_minor": 2
}
