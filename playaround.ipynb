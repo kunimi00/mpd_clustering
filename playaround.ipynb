{
 "cells": [
  {
   "cell_type": "code",
   "execution_count": 1,
   "metadata": {},
   "outputs": [],
   "source": [
    "import numpy as np\n",
    "from util.util_data import *"
   ]
  },
  {
   "cell_type": "code",
   "execution_count": 2,
   "metadata": {},
   "outputs": [],
   "source": [
    "dzr_metadata_sets_dict = load_json_to_dict('./data_pl_dzrmeta/dzr_metadata_sets_dict.json')"
   ]
  },
  {
   "cell_type": "code",
   "execution_count": 4,
   "metadata": {},
   "outputs": [
    {
     "data": {
      "text/plain": [
       "30"
      ]
     },
     "execution_count": 4,
     "metadata": {},
     "output_type": "execute_result"
    }
   ],
   "source": [
    "len(dzr_metadata_sets_dict.keys())"
   ]
  },
  {
   "cell_type": "code",
   "execution_count": null,
   "metadata": {},
   "outputs": [
    {
     "name": "stdout",
     "output_type": "stream",
     "text": [
      "25\n",
      "6\n",
      "5\n",
      "1\n",
      "1\n",
      "3\n",
      "28\n",
      "10\n",
      "3\n",
      "2\n",
      "6\n",
      "15\n",
      "58\n",
      "209\n",
      "17\n",
      "7\n",
      "8\n",
      "5\n",
      "4\n",
      "5\n",
      "1\n",
      "12\n",
      "3\n",
      "3\n",
      "2\n",
      "1\n",
      "1\n",
      "10\n",
      "2\n",
      "7\n"
     ]
    }
   ],
   "source": [
    "for _i in range(len(dzr_metadata_sets_dict.keys())):\n",
    "    _curr_set = dzr_metadata_sets_dict[list(dzr_metadata_sets_dict.keys())[_i]]\n",
    "    print(len(_curr_set))"
   ]
  },
  {
   "cell_type": "code",
   "execution_count": null,
   "metadata": {},
   "outputs": [],
   "source": []
  }
 ],
 "metadata": {
  "kernelspec": {
   "display_name": "Python 3",
   "language": "python",
   "name": "python3"
  },
  "language_info": {
   "codemirror_mode": {
    "name": "ipython",
    "version": 3
   },
   "file_extension": ".py",
   "mimetype": "text/x-python",
   "name": "python",
   "nbconvert_exporter": "python",
   "pygments_lexer": "ipython3",
   "version": "3.5.2"
  }
 },
 "nbformat": 4,
 "nbformat_minor": 2
}
